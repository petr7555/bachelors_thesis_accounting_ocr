{
 "cells": [
  {
   "cell_type": "code",
   "execution_count": 3,
   "id": "about-dimension",
   "metadata": {},
   "outputs": [],
   "source": [
    "# from https://github.com/ReceiptManager/receipt-parser-legacy/blob/master/receipt_parser_core/enhancer.py\n",
    "\n",
    "import io\n",
    "\n",
    "from PIL import Image\n",
    "from pytesseract import pytesseract\n",
    "from wand.image import Image as WandImage\n",
    "\n",
    "ORANGE = '\\033[33m'\n",
    "RESET = '\\033[0m'\n",
    "\n",
    "\n",
    "def run_tesseract(input_file, output_file, language=\"eng\"):\n",
    "    \"\"\"\n",
    "    :param input_file: str\n",
    "        Path to image to OCR\n",
    "    :param output_file: str\n",
    "        Path to output file\n",
    "    :return: void\n",
    "        Runs tesseract on image and saves result\n",
    "    \"\"\"\n",
    "\n",
    "    print(ORANGE + '\\t~: ' + RESET + 'Parse image using pytesseract' + RESET)\n",
    "    print(ORANGE + '\\t~: ' + RESET + 'Parse image at: ' + input_file + RESET)\n",
    "    print(ORANGE + '\\t~: ' + RESET + 'Write result to: ' + output_file + RESET)\n",
    "\n",
    "    with io.BytesIO() as transfer:\n",
    "        with WandImage(filename=input_file) as img:\n",
    "            img.save(transfer)\n",
    "\n",
    "        with Image.open(transfer) as img:\n",
    "            image_data = pytesseract.image_to_string(img, lang=language, timeout=60, config=\"--psm 6\")\n",
    "\n",
    "            out = open(output_file, \"w\", encoding='utf-8')\n",
    "            out.write(image_data)\n",
    "            out.close()\n"
   ]
  },
  {
   "cell_type": "code",
   "execution_count": 4,
   "id": "behavioral-bathroom",
   "metadata": {},
   "outputs": [
    {
     "name": "stdout",
     "output_type": "stream",
     "text": [
      "\u001b[33m\t~: \u001b[0mParse image using pytesseract\u001b[0m\n",
      "\u001b[33m\t~: \u001b[0mParse image at: receipt.jpg\u001b[0m\n",
      "\u001b[33m\t~: \u001b[0mWrite result to: receipt.txt\u001b[0m\n"
     ]
    }
   ],
   "source": [
    "run_tesseract(\"receipt.jpg\", \"receipt.txt\")"
   ]
  },
  {
   "cell_type": "code",
   "execution_count": null,
   "id": "diagnostic-mixer",
   "metadata": {},
   "outputs": [],
   "source": []
  }
 ],
 "metadata": {
  "kernelspec": {
   "display_name": "Python [conda env:ib031] *",
   "language": "python",
   "name": "conda-env-ib031-py"
  },
  "language_info": {
   "codemirror_mode": {
    "name": "ipython",
    "version": 3
   },
   "file_extension": ".py",
   "mimetype": "text/x-python",
   "name": "python",
   "nbconvert_exporter": "python",
   "pygments_lexer": "ipython3",
   "version": "3.8.8"
  }
 },
 "nbformat": 4,
 "nbformat_minor": 5
}
