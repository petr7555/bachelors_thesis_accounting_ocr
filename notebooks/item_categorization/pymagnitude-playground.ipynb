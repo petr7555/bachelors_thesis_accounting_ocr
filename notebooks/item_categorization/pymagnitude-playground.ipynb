{
 "cells": [
  {
   "cell_type": "code",
   "execution_count": 1,
   "id": "behind-glass",
   "metadata": {},
   "outputs": [],
   "source": [
    "from pymagnitude import Magnitude, MagnitudeUtils"
   ]
  },
  {
   "cell_type": "code",
   "execution_count": 2,
   "id": "beginning-february",
   "metadata": {},
   "outputs": [],
   "source": [
    "vectors = Magnitude(MagnitudeUtils.download_model('word2vec/heavy/GoogleNews-vectors-negative300.magnitude'))"
   ]
  },
  {
   "cell_type": "code",
   "execution_count": 3,
   "id": "bibliographic-newport",
   "metadata": {},
   "outputs": [
    {
     "data": {
      "text/plain": [
       "[('carrots', 0.7685449),\n",
       " ('proverbial_carrot', 0.5643057),\n",
       " ('Carrot', 0.48995772),\n",
       " ('celery', 0.4753185),\n",
       " ('dangling_carrot', 0.47465426),\n",
       " ('Coarsely_grate', 0.47062412),\n",
       " ('carrot_dangling', 0.4619137),\n",
       " ('broccoli', 0.45493668),\n",
       " ('raisin_salad', 0.45256886),\n",
       " ('shredded_zucchini', 0.44899866)]"
      ]
     },
     "execution_count": 3,
     "metadata": {},
     "output_type": "execute_result"
    }
   ],
   "source": [
    "vectors.most_similar(\"carrot\")"
   ]
  },
  {
   "cell_type": "code",
   "execution_count": 6,
   "id": "unnecessary-minimum",
   "metadata": {},
   "outputs": [
    {
     "data": {
      "text/plain": [
       "[('carrots', 0.7685446999923613),\n",
       " ('celery', 0.47531832163405596),\n",
       " ('broccoli', 0.4549365083523469),\n",
       " ('ginger_puree', 0.4444111730874454),\n",
       " ('dangle_carrot', 0.4436831039658671),\n",
       " ('beefsteak_tomatoes', 0.4339051843958259),\n",
       " ('apple_slices', 0.4278265749573791),\n",
       " ('plums', 0.4260337278994655),\n",
       " ('cucumber', 0.4251839295296165),\n",
       " ('peppermint_candy', 0.42477266782699985)]"
      ]
     },
     "execution_count": 6,
     "metadata": {},
     "output_type": "execute_result"
    }
   ],
   "source": [
    "vectors.most_similar_approx(\"carrot\")"
   ]
  },
  {
   "cell_type": "code",
   "execution_count": 5,
   "id": "accurate-judges",
   "metadata": {},
   "outputs": [
    {
     "data": {
      "text/plain": [
       "(0.3729638, 0.27530932)"
      ]
     },
     "execution_count": 5,
     "metadata": {},
     "output_type": "execute_result"
    }
   ],
   "source": [
    "vectors.similarity(\"carrot\", \"fruit\"), vectors.similarity(\"carrot\", \"vegetables\")"
   ]
  },
  {
   "cell_type": "code",
   "execution_count": 6,
   "id": "finnish-freedom",
   "metadata": {},
   "outputs": [],
   "source": [
    "categories = {\n",
    "    \"television\" : \"📺\",\n",
    "    \"mobile\" : \"📱\",\n",
    "    \"computer\" : \"💻\",\n",
    "    \"watch\": \"⌚️\",\n",
    "    \"camera\": \"📷\",\n",
    "    \"headphones\": \"🎧\",\n",
    "    \"videogame\" : \"🎮\",\n",
    "    \"paper\": \"📄\",\n",
    "    \"pencil\": \"✏️\",\n",
    "    \"shirt\": \"👕\",\n",
    "    \"jeans\": \"👖\",\n",
    "    \"shoes\": \"👟\",\n",
    "}"
   ]
  },
  {
   "cell_type": "code",
   "execution_count": 7,
   "id": "raised-spring",
   "metadata": {},
   "outputs": [
    {
     "data": {
      "text/plain": [
       "['television',\n",
       " 'mobile',\n",
       " 'computer',\n",
       " 'watch',\n",
       " 'camera',\n",
       " 'headphones',\n",
       " 'videogame',\n",
       " 'paper',\n",
       " 'pencil',\n",
       " 'shirt',\n",
       " 'jeans',\n",
       " 'shoes']"
      ]
     },
     "execution_count": 7,
     "metadata": {},
     "output_type": "execute_result"
    }
   ],
   "source": [
    "list(categories.keys())"
   ]
  },
  {
   "cell_type": "code",
   "execution_count": 8,
   "id": "indirect-worse",
   "metadata": {},
   "outputs": [
    {
     "data": {
      "text/plain": [
       "'mobile'"
      ]
     },
     "execution_count": 8,
     "metadata": {},
     "output_type": "execute_result"
    }
   ],
   "source": [
    "most_similar = vectors.most_similar_to_given(\"smartphone\", list(categories.keys()))\n",
    "most_similar"
   ]
  },
  {
   "cell_type": "code",
   "execution_count": 9,
   "id": "approximate-inspiration",
   "metadata": {},
   "outputs": [
    {
     "data": {
      "text/plain": [
       "'📱'"
      ]
     },
     "execution_count": 9,
     "metadata": {},
     "output_type": "execute_result"
    }
   ],
   "source": [
    "emoji = categories[most_similar]\n",
    "emoji"
   ]
  },
  {
   "cell_type": "code",
   "execution_count": 10,
   "id": "conventional-teens",
   "metadata": {},
   "outputs": [],
   "source": [
    "def category(word):\n",
    "    most_similar = vectors.most_similar_to_given(word, list(categories.keys()))\n",
    "    emoji = categories[most_similar]\n",
    "    return {\n",
    "        \"category\": most_similar,\n",
    "        \"emoji\": emoji,\n",
    "    }"
   ]
  },
  {
   "cell_type": "code",
   "execution_count": 11,
   "id": "respiratory-methodology",
   "metadata": {},
   "outputs": [
    {
     "data": {
      "text/plain": [
       "{'category': 'mobile', 'emoji': '📱'}"
      ]
     },
     "execution_count": 11,
     "metadata": {},
     "output_type": "execute_result"
    }
   ],
   "source": [
    "category(\"smartphone\")"
   ]
  },
  {
   "cell_type": "code",
   "execution_count": 12,
   "id": "extraordinary-spiritual",
   "metadata": {},
   "outputs": [],
   "source": [
    "def category(word):\n",
    "    most_similar = vectors.most_similar_to_given(word, list(categories.keys()))\n",
    "    emoji = categories[most_similar]\n",
    "    return {\n",
    "        \"category\": most_similar,\n",
    "        \"emoji\": emoji,\n",
    "    }"
   ]
  },
  {
   "cell_type": "code",
   "execution_count": 13,
   "id": "criminal-sewing",
   "metadata": {},
   "outputs": [],
   "source": [
    "item = \"ginger carrot soup\""
   ]
  },
  {
   "cell_type": "code",
   "execution_count": 14,
   "id": "private-toddler",
   "metadata": {},
   "outputs": [
    {
     "data": {
      "text/plain": [
       "array([[ 0.0332858 , -0.0021189 ,  0.0470522 , ..., -0.0028509 ,\n",
       "         0.0179784 , -0.0435592 ],\n",
       "       [-0.0131628 , -0.0455637 , -0.0483987 , ..., -0.0115428 ,\n",
       "        -0.0429311 , -0.0289582 ],\n",
       "       [-0.01974812,  0.08088748,  0.00189519, ...,  0.06656797,\n",
       "         0.01162064,  0.01157236],\n",
       "       [ 0.0448648 , -0.0103908 , -0.0178682 , ...,  0.0384555 ,\n",
       "        -0.0229179 , -0.0020514 ]], dtype=float32)"
      ]
     },
     "execution_count": 14,
     "metadata": {},
     "output_type": "execute_result"
    }
   ],
   "source": [
    "vectors.query([\"I\", \"read\", \"a\", \"book\"])"
   ]
  },
  {
   "cell_type": "code",
   "execution_count": 15,
   "id": "hourly-singer",
   "metadata": {},
   "outputs": [
    {
     "data": {
      "text/plain": [
       "0.76094574"
      ]
     },
     "execution_count": 15,
     "metadata": {},
     "output_type": "execute_result"
    }
   ],
   "source": [
    "vectors.similarity(\"cat\", \"dog\")"
   ]
  },
  {
   "cell_type": "code",
   "execution_count": 16,
   "id": "useful-terminology",
   "metadata": {},
   "outputs": [
    {
     "data": {
      "text/plain": [
       "0.69145405"
      ]
     },
     "execution_count": 16,
     "metadata": {},
     "output_type": "execute_result"
    }
   ],
   "source": [
    "vectors.distance(\"cat\", \"dog\")"
   ]
  },
  {
   "cell_type": "code",
   "execution_count": 17,
   "id": "russian-electron",
   "metadata": {},
   "outputs": [
    {
     "data": {
      "text/plain": [
       "0.760945737361908"
      ]
     },
     "execution_count": 17,
     "metadata": {},
     "output_type": "execute_result"
    }
   ],
   "source": [
    "from scipy import spatial\n",
    "\n",
    "cat_vec = vectors.query(\"cat\")\n",
    "dog_vec = vectors.query(\"dog\")\n",
    "similarity = 1 - spatial.distance.cosine(cat_vec, dog_vec)\n",
    "similarity"
   ]
  },
  {
   "cell_type": "markdown",
   "id": "differential-compression",
   "metadata": {},
   "source": [
    "### Similarity between sentence and word"
   ]
  },
  {
   "cell_type": "code",
   "execution_count": 18,
   "id": "durable-complexity",
   "metadata": {},
   "outputs": [
    {
     "name": "stderr",
     "output_type": "stream",
     "text": [
      "[nltk_data] Downloading package punkt to\n",
      "[nltk_data]     /Users/petr.janik/nltk_data...\n",
      "[nltk_data]   Package punkt is already up-to-date!\n",
      "[nltk_data] Downloading package stopwords to\n",
      "[nltk_data]     /Users/petr.janik/nltk_data...\n",
      "[nltk_data]   Package stopwords is already up-to-date!\n"
     ]
    },
    {
     "data": {
      "text/plain": [
       "True"
      ]
     },
     "execution_count": 18,
     "metadata": {},
     "output_type": "execute_result"
    }
   ],
   "source": [
    "import numpy as np\n",
    "\n",
    "from nltk.tokenize import word_tokenize\n",
    "import nltk\n",
    "nltk.download('punkt')\n",
    "import string\n",
    "from nltk.corpus import stopwords\n",
    "nltk.download('stopwords')"
   ]
  },
  {
   "cell_type": "code",
   "execution_count": 19,
   "id": "surgical-exhibition",
   "metadata": {},
   "outputs": [],
   "source": [
    "def get_vectors_for(text):\n",
    "    text = text.translate(str.maketrans('', '', string.punctuation)) # text without punctuation\n",
    "    vecs = []\n",
    "    tokenized = word_tokenize(text)\n",
    "    for word in tokenized:\n",
    "        print(word)\n",
    "        word_lower = word.lower()\n",
    "        if word_lower in stopwords.words('english'): # skip stopwords\n",
    "            continue\n",
    "        if word_lower in vectors:\n",
    "            vecs.append(vectors.query(word_lower))\n",
    "    return np.array(vecs)"
   ]
  },
  {
   "cell_type": "code",
   "execution_count": 20,
   "id": "vertical-argument",
   "metadata": {},
   "outputs": [],
   "source": [
    "sentence = \"Gin-ger, Carrot. soup!!!\""
   ]
  },
  {
   "cell_type": "code",
   "execution_count": 21,
   "id": "interior-abuse",
   "metadata": {},
   "outputs": [
    {
     "data": {
      "text/plain": [
       "['gin', 'ger', 'carrot', 'soup']"
      ]
     },
     "execution_count": 21,
     "metadata": {},
     "output_type": "execute_result"
    }
   ],
   "source": [
    "# or simpler\n",
    "from sklearn.feature_extraction.text import CountVectorizer\n",
    "\n",
    "vectorizer = CountVectorizer(stop_words=\"english\")\n",
    "tokenize = vectorizer.build_analyzer()\n",
    "tokenize(sentence)"
   ]
  },
  {
   "cell_type": "code",
   "execution_count": 22,
   "id": "presidential-guitar",
   "metadata": {},
   "outputs": [
    {
     "data": {
      "text/plain": [
       "array([-0.0632115,  0.0618373,  0.0077726,  0.1284843, -0.0010414,\n",
       "        0.0331517,  0.0453474, -0.063555 ,  0.0324646,  0.101001 ,\n",
       "       -0.046378 , -0.0515311,  0.0334952,  0.0573713, -0.0982527,\n",
       "        0.0855417, -0.0443168, -0.0614938, -0.0443168, -0.1676479,\n",
       "        0.0525617,  0.0384766,  0.0587455, -0.0982527,  0.0477522,\n",
       "       -0.0934431,  0.0126251,  0.0549665, -0.0687082,  0.0529053,\n",
       "       -0.0511876,  0.0518747,  0.0007247, -0.0233608,  0.0054752,\n",
       "        0.0573713,  0.0178641,  0.0142569,  0.0184653,  0.0438015,\n",
       "       -0.0893206, -0.083824 ,  0.0975656, -0.0135699, -0.0334952,\n",
       "       -0.1703962, -0.1195522,  0.0198395,  0.0079873,  0.083824 ,\n",
       "       -0.039679 ,  0.0189806, -0.0766096,  0.0050243, -0.0420837,\n",
       "       -0.0285139,  0.0425991,  0.0213854, -0.007515 , -0.080045 ,\n",
       "       -0.0290292,  0.0975656, -0.0360718,  0.0996268,  0.0831369,\n",
       "       -0.1003139, -0.0594326, -0.1140556,  0.0395072, -0.0155452,\n",
       "        0.0817627, -0.0166617,  0.0494699, -0.0009394, -0.0103492,\n",
       "       -0.0484393, -0.0608067, -0.0405378,  0.0477522, -0.0690517,\n",
       "        0.0714565, -0.0704259,  0.0312622, -0.0412249,  0.0083738,\n",
       "       -0.0687082, -0.0408814,  0.054623 ,  0.0111651, -0.0515311,\n",
       "        0.0014923, -0.0182077, -0.0053034, -0.1223005, -0.0041654,\n",
       "       -0.033667 ,  0.0069567, -0.0724871,  0.0197536,  0.041912 ,\n",
       "       -0.0934431,  0.0604632,  0.0035213,  0.0728307, -0.0724871,\n",
       "       -0.0525617,  0.0982527,  0.0264526,  0.0518747, -0.026968 ,\n",
       "       -0.0604632, -0.0886335,  0.0252503, -0.0429426, -0.0529053,\n",
       "       -0.1147426,  0.0109933, -0.0422555, -0.0317775, -0.0436297,\n",
       "       -0.0365871, -0.0386483,  0.0221584,  0.0570278, -0.092756 ,\n",
       "        0.1003139, -0.0470651,  0.0279986,  0.0779838,  0.0094903,\n",
       "       -0.0364153,  0.1236747, -0.0096621,  0.0649292, -0.0088462,\n",
       "        0.0831369,  0.0456909, -0.084511 ,  0.1387905, -0.0367589,\n",
       "       -0.0032636,  0.0376177, -0.0117663, -0.0096621,  0.0810756,\n",
       "       -0.0190665,  0.0077726,  0.0003489, -0.1016881,  0.0281703,\n",
       "        0.0286857, -0.011251 , -0.0707694,  0.0893206, -0.0019754,\n",
       "       -0.0348694, -0.0176065,  0.0109074, -0.1504709,  0.020956 ,\n",
       "       -0.0293727, -0.0121957,  0.0400225,  0.0255938, -0.0446603,\n",
       "       -0.0168335,  0.109246 ,  0.0400225,  0.0285139, -0.000875 ,\n",
       "       -0.0961914,  0.0304034,  0.0105209, -0.0140852, -0.1044364,\n",
       "       -0.0050672,  0.0365871,  0.0570278, -0.0194101, -0.0025443,\n",
       "       -0.0295445, -0.117491 , -0.0188947, -0.0267962,  0.0621809,\n",
       "       -0.0412249, -0.0014708,  0.0262809, -0.0439732, -0.0243914,\n",
       "       -0.0573713,  0.0040366,  0.0415684,  0.0858852, -0.0415684,\n",
       "        0.1113072,  0.0043587, -0.0228455, -0.0865723,  0.0182077,\n",
       "       -0.0563407, -0.0553101,  0.0055825, -0.0233608, -0.0434579,\n",
       "       -0.0450038, -0.0304034, -0.0142569, -0.0333235, -0.0772967,\n",
       "       -0.1003139,  0.0045734, -0.0259373,  0.0570278,  0.0071714,\n",
       "        0.025422 , -0.0018358,  0.0645857,  0.0225019,  0.0123675,\n",
       "        0.0176924,  0.0047666,  0.0752354,  0.0019109,  0.0886335,\n",
       "        0.0212136,  0.0005744,  0.0126251, -0.050157 ,  0.0139134,\n",
       "        0.0228455,  0.0118522, -0.0238761, -0.0146005, -0.029201 ,\n",
       "       -0.0961914,  0.0529053, -0.031434 , -0.0431144,  0.0218148,\n",
       "        0.1243618,  0.054623 ,  0.0539359,  0.0577149, -0.0145146,\n",
       "       -0.0711129, -0.0407096,  0.0893206,  0.0721436,  0.0357282,\n",
       "       -0.0484393, -0.0076008,  0.1319197,  0.000679 ,  0.0824498,\n",
       "       -0.0920689, -0.0573713, -0.0934431, -0.0322928, -0.0505005,\n",
       "        0.0645857,  0.0814192, -0.118178 ,  0.0109933, -0.0262809,\n",
       "       -0.0163182,  0.0008427, -0.0038648, -0.0310904, -0.033667 ,\n",
       "        0.0079873,  0.0151158,  0.0556536, -0.0359   ,  0.0941302,\n",
       "       -0.0243914, -0.0393354, -0.014944 ,  0.0346976,  0.0273115,\n",
       "        0.0532488, -0.0111651,  0.0372742,  0.0094903, -0.0518747,\n",
       "       -0.0704259,  0.0002093,  0.0975656, -0.1064977,  0.1044364,\n",
       "        0.0194959, -0.0484393, -0.0518747,  0.0742048,  0.0676775,\n",
       "       -0.0432861, -0.0152017,  0.0680211,  0.0752354,  0.0015889],\n",
       "      dtype=float32)"
      ]
     },
     "execution_count": 22,
     "metadata": {},
     "output_type": "execute_result"
    }
   ],
   "source": [
    "vectors.query(\"soup\")"
   ]
  },
  {
   "cell_type": "code",
   "execution_count": 23,
   "id": "middle-fluid",
   "metadata": {},
   "outputs": [
    {
     "name": "stdout",
     "output_type": "stream",
     "text": [
      "Ginger\n",
      "Carrot\n",
      "soup\n"
     ]
    },
    {
     "data": {
      "text/plain": [
       "array([-3.82726006e-02,  6.88864961e-02,  1.13998661e-02,  8.47308636e-02,\n",
       "        3.09115350e-02,  6.98080054e-03,  4.66029346e-02, -7.67960325e-02,\n",
       "       -3.97804640e-02,  7.82321319e-02, -4.38365638e-02, -3.68401669e-02,\n",
       "        2.72793253e-03,  6.29672036e-02, -1.17294811e-01,  6.74639642e-02,\n",
       "       -5.92347346e-02, -5.35799796e-03, -6.85786009e-02, -1.31368697e-01,\n",
       "        1.44090327e-02,  5.43683656e-02,  7.51434639e-02, -1.28464662e-02,\n",
       "        1.44738005e-02, -6.27673343e-02, -3.92605029e-02,  4.99931984e-02,\n",
       "       -4.53256965e-02,  5.21523356e-02,  1.01935333e-02,  2.69586984e-02,\n",
       "        5.36336703e-03, -4.85099368e-02, -4.00059950e-03,  6.88883290e-03,\n",
       "        1.79078002e-02,  2.27759965e-03,  2.61274334e-02,  5.48931360e-02,\n",
       "       -1.12914657e-02, -7.56996945e-02,  2.07556989e-02,  2.77133379e-03,\n",
       "       -4.64606611e-03, -1.21082805e-01, -6.41838014e-02, -3.85268331e-02,\n",
       "        4.77593988e-02,  2.92357355e-02, -6.15815334e-02,  6.91258311e-02,\n",
       "       -2.66396999e-02,  2.08948012e-02,  1.50751015e-02, -3.15913255e-03,\n",
       "       -2.81322356e-02, -8.06916598e-03, -3.12241334e-02, -5.75360358e-02,\n",
       "       -3.81400324e-02,  5.07575311e-02,  5.51933283e-03,  6.36182353e-02,\n",
       "        5.38293272e-03, -6.96754679e-02, -3.76493670e-02, -7.65416026e-02,\n",
       "        3.69212329e-02, -3.57353338e-03,  4.02078331e-02, -1.43328654e-02,\n",
       "        2.06079963e-03, -2.18726625e-03, -2.11614668e-02, -2.61503998e-02,\n",
       "       -4.81394641e-02,  8.48403480e-03,  4.96581346e-02, -3.80349346e-02,\n",
       "        3.59235667e-02, -1.96616333e-02,  1.76802669e-02, -2.38061994e-02,\n",
       "        7.40143284e-03, -4.59254347e-02, -1.82506687e-03,  4.31887023e-02,\n",
       "        1.98560003e-02, -3.40700001e-02, -2.73773000e-02, -2.36437675e-02,\n",
       "       -1.92880668e-02, -6.77751005e-02,  5.25633164e-04, -2.27842648e-02,\n",
       "        1.41859008e-02, -1.47379339e-02,  2.61318982e-02,  5.63659938e-03,\n",
       "       -6.45600632e-02,  2.16863421e-03, -6.30469993e-03,  4.38717641e-02,\n",
       "       -3.53540331e-02, -3.35772336e-02,  8.08219686e-02, -2.13986705e-03,\n",
       "        4.93869036e-02, -5.08327000e-02, -5.31082340e-02, -4.91439663e-02,\n",
       "       -1.12316629e-03,  4.25668322e-02, -7.38618001e-02, -4.87484969e-02,\n",
       "        4.22200672e-02, -4.99332659e-02, -5.85083291e-03, -2.77657658e-02,\n",
       "        8.87299981e-03, -1.19931325e-02, -4.03811336e-02, -3.46999615e-04,\n",
       "       -7.10773692e-02,  4.29469980e-02,  4.01173392e-03,  3.92103642e-02,\n",
       "        8.40458646e-02,  3.32878344e-02, -5.79803400e-02,  6.33435324e-02,\n",
       "        2.06360011e-03,  1.39221326e-02, -6.13353960e-02,  9.37422737e-02,\n",
       "       -4.42316756e-03, -1.60719324e-02,  4.86815013e-02,  4.97061647e-02,\n",
       "        2.38631982e-02, -1.06325001e-02, -3.31579335e-02, -1.85784660e-02,\n",
       "        8.21583346e-02,  1.41791329e-02, -5.38670719e-02,  8.59836768e-03,\n",
       "       -7.01706037e-02,  4.79076616e-03,  1.54196331e-02, -2.54337657e-02,\n",
       "       -4.72941287e-02,  7.55857006e-02,  1.59604345e-02, -6.93809986e-02,\n",
       "       -5.13926335e-02, -5.15672378e-02, -7.99577311e-02,  5.43416711e-03,\n",
       "       -4.60956991e-02, -2.43699681e-02,  3.09279021e-02,  1.93723347e-02,\n",
       "       -2.98885014e-02, -3.00275665e-02,  5.19933291e-02,  1.28177656e-02,\n",
       "       -1.83022339e-02,  1.26456330e-02, -4.53153998e-02,  5.96885979e-02,\n",
       "       -3.37487645e-02,  9.00316704e-03, -7.73761347e-02, -4.43082005e-02,\n",
       "        7.98472017e-02, -9.44994390e-05, -2.24101003e-02,  5.95395304e-02,\n",
       "       -1.56952348e-02, -6.31938949e-02,  1.21569948e-03,  1.05072334e-02,\n",
       "       -5.45326620e-03, -1.88771021e-02, -1.29470341e-02,  3.47447693e-02,\n",
       "       -3.51048671e-02, -3.93698327e-02, -8.91943276e-02,  3.71261351e-02,\n",
       "        3.21733207e-03, -1.61284655e-02,  5.67931645e-02,  9.66710374e-02,\n",
       "       -2.98035312e-02,  3.11687011e-02, -6.96581304e-02,  2.29296330e-02,\n",
       "       -1.93987656e-02, -4.12647314e-02,  7.85189960e-03,  5.08240005e-03,\n",
       "       -1.78082995e-02, -3.26031335e-02, -1.01814335e-02,  1.67975333e-02,\n",
       "        3.60696646e-03, -2.04569642e-02, -1.21569134e-01, -7.33166700e-03,\n",
       "       -2.28955988e-02,  3.51812653e-02,  1.12448335e-02,  1.43060004e-02,\n",
       "       -6.13016635e-03,  3.02311014e-02,  6.76933303e-02,  7.32727349e-02,\n",
       "        2.28532013e-02,  5.67570003e-03,  2.15522647e-02, -2.72703334e-03,\n",
       "        1.52682671e-02,  2.54480336e-02,  1.31161660e-02, -2.03307662e-02,\n",
       "        1.20456656e-02,  1.51812667e-02,  1.38659663e-02, -2.45018676e-02,\n",
       "        6.57529011e-02,  4.44640033e-02, -3.50472331e-02, -5.34363687e-02,\n",
       "        9.59106628e-03, -4.57964353e-02,  4.88109291e-02,  8.39523319e-03,\n",
       "        8.37332979e-02,  2.90795658e-02,  2.92468313e-02,  3.87562327e-02,\n",
       "       -1.09500031e-03, -7.02830330e-02, -6.12976290e-02,  6.29533678e-02,\n",
       "        3.06946337e-02,  2.90927663e-02, -4.62242961e-02, -3.84949334e-02,\n",
       "        1.09180175e-01,  1.00614997e-02,  3.70960012e-02, -6.70927688e-02,\n",
       "       -4.86407317e-02, -8.28597620e-02, -2.24764664e-02, -2.77462006e-02,\n",
       "        6.94703981e-02,  8.68868008e-02, -1.13990135e-01,  4.26533036e-02,\n",
       "       -2.12203339e-02, -2.87067350e-02, -7.35335276e-02,  1.57367010e-02,\n",
       "       -5.44715337e-02, -7.56058618e-02,  2.63182987e-02,  1.62678342e-02,\n",
       "        6.62094727e-02, -2.80013997e-02,  5.43459989e-02, -2.82743271e-03,\n",
       "        6.72666996e-04, -2.22705994e-02, -2.04403996e-02,  2.39189658e-02,\n",
       "        9.97993350e-03,  5.30328341e-02,  2.38570329e-02, -1.83264669e-02,\n",
       "       -4.55051661e-02, -5.92558347e-02, -5.43995984e-02,  3.66058312e-02,\n",
       "       -2.32789312e-02,  6.51598647e-02, -3.81611995e-02, -2.38614324e-02,\n",
       "        8.97976663e-03,  3.78728993e-02,  4.62975316e-02, -1.63886342e-02,\n",
       "       -1.51614659e-02,  4.77272682e-02,  4.60443981e-02,  2.68854331e-02],\n",
       "      dtype=float32)"
      ]
     },
     "execution_count": 23,
     "metadata": {},
     "output_type": "execute_result"
    }
   ],
   "source": [
    "np.mean(get_vectors_for(sentence), axis=0)"
   ]
  },
  {
   "cell_type": "code",
   "execution_count": 24,
   "id": "romance-approval",
   "metadata": {},
   "outputs": [],
   "source": [
    "sentence = \"ginger carrot soup\"\n",
    "tokens = sentence.split()"
   ]
  },
  {
   "cell_type": "code",
   "execution_count": 25,
   "id": "crude-knife",
   "metadata": {},
   "outputs": [
    {
     "data": {
      "text/plain": [
       "array([-3.82726006e-02,  6.88864961e-02,  1.13998661e-02,  8.47308636e-02,\n",
       "        3.09115350e-02,  6.98080054e-03,  4.66029346e-02, -7.67960325e-02,\n",
       "       -3.97804640e-02,  7.82321319e-02, -4.38365638e-02, -3.68401669e-02,\n",
       "        2.72793253e-03,  6.29672036e-02, -1.17294811e-01,  6.74639642e-02,\n",
       "       -5.92347346e-02, -5.35799796e-03, -6.85786009e-02, -1.31368697e-01,\n",
       "        1.44090327e-02,  5.43683656e-02,  7.51434639e-02, -1.28464662e-02,\n",
       "        1.44738005e-02, -6.27673343e-02, -3.92605029e-02,  4.99931984e-02,\n",
       "       -4.53256965e-02,  5.21523356e-02,  1.01935333e-02,  2.69586984e-02,\n",
       "        5.36336703e-03, -4.85099368e-02, -4.00059950e-03,  6.88883290e-03,\n",
       "        1.79078002e-02,  2.27759965e-03,  2.61274334e-02,  5.48931360e-02,\n",
       "       -1.12914657e-02, -7.56996945e-02,  2.07556989e-02,  2.77133379e-03,\n",
       "       -4.64606611e-03, -1.21082805e-01, -6.41838014e-02, -3.85268331e-02,\n",
       "        4.77593988e-02,  2.92357355e-02, -6.15815334e-02,  6.91258311e-02,\n",
       "       -2.66396999e-02,  2.08948012e-02,  1.50751015e-02, -3.15913255e-03,\n",
       "       -2.81322356e-02, -8.06916598e-03, -3.12241334e-02, -5.75360358e-02,\n",
       "       -3.81400324e-02,  5.07575311e-02,  5.51933283e-03,  6.36182353e-02,\n",
       "        5.38293272e-03, -6.96754679e-02, -3.76493670e-02, -7.65416026e-02,\n",
       "        3.69212329e-02, -3.57353338e-03,  4.02078331e-02, -1.43328654e-02,\n",
       "        2.06079963e-03, -2.18726625e-03, -2.11614668e-02, -2.61503998e-02,\n",
       "       -4.81394641e-02,  8.48403480e-03,  4.96581346e-02, -3.80349346e-02,\n",
       "        3.59235667e-02, -1.96616333e-02,  1.76802669e-02, -2.38061994e-02,\n",
       "        7.40143284e-03, -4.59254347e-02, -1.82506687e-03,  4.31887023e-02,\n",
       "        1.98560003e-02, -3.40700001e-02, -2.73773000e-02, -2.36437675e-02,\n",
       "       -1.92880668e-02, -6.77751005e-02,  5.25633164e-04, -2.27842648e-02,\n",
       "        1.41859008e-02, -1.47379339e-02,  2.61318982e-02,  5.63659938e-03,\n",
       "       -6.45600632e-02,  2.16863421e-03, -6.30469993e-03,  4.38717641e-02,\n",
       "       -3.53540331e-02, -3.35772336e-02,  8.08219686e-02, -2.13986705e-03,\n",
       "        4.93869036e-02, -5.08327000e-02, -5.31082340e-02, -4.91439663e-02,\n",
       "       -1.12316629e-03,  4.25668322e-02, -7.38618001e-02, -4.87484969e-02,\n",
       "        4.22200672e-02, -4.99332659e-02, -5.85083291e-03, -2.77657658e-02,\n",
       "        8.87299981e-03, -1.19931325e-02, -4.03811336e-02, -3.46999615e-04,\n",
       "       -7.10773692e-02,  4.29469980e-02,  4.01173392e-03,  3.92103642e-02,\n",
       "        8.40458646e-02,  3.32878344e-02, -5.79803400e-02,  6.33435324e-02,\n",
       "        2.06360011e-03,  1.39221326e-02, -6.13353960e-02,  9.37422737e-02,\n",
       "       -4.42316756e-03, -1.60719324e-02,  4.86815013e-02,  4.97061647e-02,\n",
       "        2.38631982e-02, -1.06325001e-02, -3.31579335e-02, -1.85784660e-02,\n",
       "        8.21583346e-02,  1.41791329e-02, -5.38670719e-02,  8.59836768e-03,\n",
       "       -7.01706037e-02,  4.79076616e-03,  1.54196331e-02, -2.54337657e-02,\n",
       "       -4.72941287e-02,  7.55857006e-02,  1.59604345e-02, -6.93809986e-02,\n",
       "       -5.13926335e-02, -5.15672378e-02, -7.99577311e-02,  5.43416711e-03,\n",
       "       -4.60956991e-02, -2.43699681e-02,  3.09279021e-02,  1.93723347e-02,\n",
       "       -2.98885014e-02, -3.00275665e-02,  5.19933291e-02,  1.28177656e-02,\n",
       "       -1.83022339e-02,  1.26456330e-02, -4.53153998e-02,  5.96885979e-02,\n",
       "       -3.37487645e-02,  9.00316704e-03, -7.73761347e-02, -4.43082005e-02,\n",
       "        7.98472017e-02, -9.44994390e-05, -2.24101003e-02,  5.95395304e-02,\n",
       "       -1.56952348e-02, -6.31938949e-02,  1.21569948e-03,  1.05072334e-02,\n",
       "       -5.45326620e-03, -1.88771021e-02, -1.29470341e-02,  3.47447693e-02,\n",
       "       -3.51048671e-02, -3.93698327e-02, -8.91943276e-02,  3.71261351e-02,\n",
       "        3.21733207e-03, -1.61284655e-02,  5.67931645e-02,  9.66710374e-02,\n",
       "       -2.98035312e-02,  3.11687011e-02, -6.96581304e-02,  2.29296330e-02,\n",
       "       -1.93987656e-02, -4.12647314e-02,  7.85189960e-03,  5.08240005e-03,\n",
       "       -1.78082995e-02, -3.26031335e-02, -1.01814335e-02,  1.67975333e-02,\n",
       "        3.60696646e-03, -2.04569642e-02, -1.21569134e-01, -7.33166700e-03,\n",
       "       -2.28955988e-02,  3.51812653e-02,  1.12448335e-02,  1.43060004e-02,\n",
       "       -6.13016635e-03,  3.02311014e-02,  6.76933303e-02,  7.32727349e-02,\n",
       "        2.28532013e-02,  5.67570003e-03,  2.15522647e-02, -2.72703334e-03,\n",
       "        1.52682671e-02,  2.54480336e-02,  1.31161660e-02, -2.03307662e-02,\n",
       "        1.20456656e-02,  1.51812667e-02,  1.38659663e-02, -2.45018676e-02,\n",
       "        6.57529011e-02,  4.44640033e-02, -3.50472331e-02, -5.34363687e-02,\n",
       "        9.59106628e-03, -4.57964353e-02,  4.88109291e-02,  8.39523319e-03,\n",
       "        8.37332979e-02,  2.90795658e-02,  2.92468313e-02,  3.87562327e-02,\n",
       "       -1.09500031e-03, -7.02830330e-02, -6.12976290e-02,  6.29533678e-02,\n",
       "        3.06946337e-02,  2.90927663e-02, -4.62242961e-02, -3.84949334e-02,\n",
       "        1.09180175e-01,  1.00614997e-02,  3.70960012e-02, -6.70927688e-02,\n",
       "       -4.86407317e-02, -8.28597620e-02, -2.24764664e-02, -2.77462006e-02,\n",
       "        6.94703981e-02,  8.68868008e-02, -1.13990135e-01,  4.26533036e-02,\n",
       "       -2.12203339e-02, -2.87067350e-02, -7.35335276e-02,  1.57367010e-02,\n",
       "       -5.44715337e-02, -7.56058618e-02,  2.63182987e-02,  1.62678342e-02,\n",
       "        6.62094727e-02, -2.80013997e-02,  5.43459989e-02, -2.82743271e-03,\n",
       "        6.72666996e-04, -2.22705994e-02, -2.04403996e-02,  2.39189658e-02,\n",
       "        9.97993350e-03,  5.30328341e-02,  2.38570329e-02, -1.83264669e-02,\n",
       "       -4.55051661e-02, -5.92558347e-02, -5.43995984e-02,  3.66058312e-02,\n",
       "       -2.32789312e-02,  6.51598647e-02, -3.81611995e-02, -2.38614324e-02,\n",
       "        8.97976663e-03,  3.78728993e-02,  4.62975316e-02, -1.63886342e-02,\n",
       "       -1.51614659e-02,  4.77272682e-02,  4.60443981e-02,  2.68854331e-02],\n",
       "      dtype=float32)"
      ]
     },
     "execution_count": 25,
     "metadata": {},
     "output_type": "execute_result"
    }
   ],
   "source": [
    "mean_vec = np.mean(vectors.query(tokens), axis=0)\n",
    "mean_vec"
   ]
  },
  {
   "cell_type": "code",
   "execution_count": 26,
   "id": "altered-knight",
   "metadata": {},
   "outputs": [],
   "source": [
    "categories = [\"vegetable\", \"fruit\", \"carrot\", \"yoghurt\"]\n",
    "categories_vec = [vectors.query(category) for category in categories]"
   ]
  },
  {
   "cell_type": "code",
   "execution_count": 27,
   "id": "romance-democrat",
   "metadata": {},
   "outputs": [
    {
     "name": "stdout",
     "output_type": "stream",
     "text": [
      "vegetable 0.5529444217681885\n",
      "fruit 0.4844015836715698\n",
      "carrot 0.7097286581993103\n",
      "yoghurt 0.5526320934295654\n"
     ]
    }
   ],
   "source": [
    "for category, category_vec in zip(categories, categories_vec):\n",
    "    similarity = 1 - spatial.distance.cosine(mean_vec, category_vec)\n",
    "    print(category, similarity)"
   ]
  },
  {
   "cell_type": "code",
   "execution_count": 28,
   "id": "spiritual-salem",
   "metadata": {},
   "outputs": [
    {
     "data": {
      "text/plain": [
       "'carrot'"
      ]
     },
     "execution_count": 28,
     "metadata": {},
     "output_type": "execute_result"
    }
   ],
   "source": [
    "similarities = []\n",
    "for i in range(len(categories_vec)):\n",
    "    similarity = 1 - spatial.distance.cosine(mean_vec, categories_vec[i])\n",
    "    similarities.append(similarity)\n",
    "categories[np.array(similarities).argmax()]"
   ]
  },
  {
   "cell_type": "code",
   "execution_count": 29,
   "id": "following-harvard",
   "metadata": {},
   "outputs": [
    {
     "data": {
      "text/plain": [
       "1.0"
      ]
     },
     "execution_count": 29,
     "metadata": {},
     "output_type": "execute_result"
    }
   ],
   "source": [
    "vectors.similarity(\"carrot\", \"carrot\")"
   ]
  },
  {
   "cell_type": "code",
   "execution_count": 30,
   "id": "scenic-absolute",
   "metadata": {},
   "outputs": [
    {
     "data": {
      "text/plain": [
       "'!\"#$%&\\'()*+,-./:;<=>?@[\\\\]^_`{|}~'"
      ]
     },
     "execution_count": 30,
     "metadata": {},
     "output_type": "execute_result"
    }
   ],
   "source": [
    "string.punctuation"
   ]
  },
  {
   "cell_type": "code",
   "execution_count": 31,
   "id": "included-discovery",
   "metadata": {},
   "outputs": [
    {
     "data": {
      "text/plain": [
       "'carrot'"
      ]
     },
     "execution_count": 31,
     "metadata": {},
     "output_type": "execute_result"
    }
   ],
   "source": [
    "vectors.most_similar_to_given(categories_vec[2], categories)"
   ]
  },
  {
   "cell_type": "code",
   "execution_count": 32,
   "id": "outside-complement",
   "metadata": {},
   "outputs": [],
   "source": [
    "categories = {\n",
    "    \"television\" : \"📺\",\n",
    "    \"mobile\" : \"📱\",\n",
    "    \"computer\" : \"💻\",\n",
    "    \"watch\": \"⌚️\",\n",
    "    \"camera\": \"📷\",\n",
    "    \"headphones\": \"🎧\",\n",
    "    \"videogame\" : \"🎮\",\n",
    "    \"paper\": \"📄\",\n",
    "    \"pencil\": \"✏️\",\n",
    "    \"shirt\": \"👕\",\n",
    "    \"jeans\": \"👖\",\n",
    "    \"shoes\": \"👟\",\n",
    "}"
   ]
  },
  {
   "cell_type": "code",
   "execution_count": 33,
   "id": "healthy-tiffany",
   "metadata": {},
   "outputs": [],
   "source": [
    "def category(sentence):\n",
    "    tokens = tokenize(sentence)\n",
    "    mean_vec = np.mean(vectors.query(tokens), axis=0)\n",
    "    most_similar = vectors.most_similar_to_given(mean_vec, list(categories.keys()))\n",
    "    emoji = categories[most_similar]\n",
    "    return {\n",
    "        \"category\": most_similar,\n",
    "        \"emoji\": emoji,\n",
    "    }"
   ]
  },
  {
   "cell_type": "code",
   "execution_count": 34,
   "id": "extended-detroit",
   "metadata": {},
   "outputs": [
    {
     "data": {
      "text/plain": [
       "{'category': 'pencil', 'emoji': '✏️'}"
      ]
     },
     "execution_count": 34,
     "metadata": {},
     "output_type": "execute_result"
    }
   ],
   "source": [
    "category(\"carrot and fruit\")"
   ]
  },
  {
   "cell_type": "code",
   "execution_count": 35,
   "id": "assumed-gathering",
   "metadata": {},
   "outputs": [
    {
     "data": {
      "text/plain": [
       "{'category': 'mobile', 'emoji': '📱'}"
      ]
     },
     "execution_count": 35,
     "metadata": {},
     "output_type": "execute_result"
    }
   ],
   "source": [
    "category(\"smartphone\")"
   ]
  },
  {
   "cell_type": "markdown",
   "id": "cloudy-jacksonville",
   "metadata": {},
   "source": [
    "### Cosine similarity"
   ]
  },
  {
   "cell_type": "code",
   "execution_count": 36,
   "id": "interim-vector",
   "metadata": {},
   "outputs": [],
   "source": [
    "vec_a = vectors.query(\"cat\")\n",
    "vec_b = vectors.query(\"dog\")"
   ]
  },
  {
   "cell_type": "code",
   "execution_count": 37,
   "id": "thorough-overhead",
   "metadata": {},
   "outputs": [
    {
     "data": {
      "text/plain": [
       "0.760945737361908"
      ]
     },
     "execution_count": 37,
     "metadata": {},
     "output_type": "execute_result"
    }
   ],
   "source": [
    "# cosine similarity\n",
    "similarity = 1 - spatial.distance.cosine(vec_a, vec_b)\n",
    "similarity"
   ]
  },
  {
   "cell_type": "code",
   "execution_count": 38,
   "id": "extended-benjamin",
   "metadata": {},
   "outputs": [
    {
     "data": {
      "text/plain": [
       "0.23905426263809204"
      ]
     },
     "execution_count": 38,
     "metadata": {},
     "output_type": "execute_result"
    }
   ],
   "source": [
    "# cosine distance\n",
    "distance = 1 - similarity\n",
    "distance"
   ]
  },
  {
   "cell_type": "code",
   "execution_count": 39,
   "id": "romance-ranch",
   "metadata": {},
   "outputs": [
    {
     "data": {
      "text/plain": [
       "0.76094574"
      ]
     },
     "execution_count": 39,
     "metadata": {},
     "output_type": "execute_result"
    }
   ],
   "source": [
    "vectors.similarity(\"cat\", \"dog\")"
   ]
  },
  {
   "cell_type": "code",
   "execution_count": 40,
   "id": "anonymous-coverage",
   "metadata": {},
   "outputs": [
    {
     "data": {
      "text/plain": [
       "0.69145405"
      ]
     },
     "execution_count": 40,
     "metadata": {},
     "output_type": "execute_result"
    }
   ],
   "source": [
    "vectors.distance(\"cat\", \"dog\")"
   ]
  },
  {
   "cell_type": "code",
   "execution_count": 41,
   "id": "guilty-shift",
   "metadata": {},
   "outputs": [
    {
     "data": {
      "text/plain": [
       "array([[0.23905438]], dtype=float32)"
      ]
     },
     "execution_count": 41,
     "metadata": {},
     "output_type": "execute_result"
    }
   ],
   "source": [
    "from sklearn.metrics.pairwise import cosine_distances\n",
    "cosine_distances([vec_a], [vec_b])"
   ]
  },
  {
   "cell_type": "code",
   "execution_count": 42,
   "id": "improving-relative",
   "metadata": {},
   "outputs": [
    {
     "data": {
      "text/plain": [
       "array([[0.7609456]], dtype=float32)"
      ]
     },
     "execution_count": 42,
     "metadata": {},
     "output_type": "execute_result"
    }
   ],
   "source": [
    "from sklearn.metrics.pairwise import cosine_similarity\n",
    "cosine_similarity([vec_a], [vec_b])"
   ]
  },
  {
   "cell_type": "code",
   "execution_count": 43,
   "id": "allied-contents",
   "metadata": {},
   "outputs": [
    {
     "data": {
      "text/plain": [
       "0.76094574"
      ]
     },
     "execution_count": 43,
     "metadata": {},
     "output_type": "execute_result"
    }
   ],
   "source": [
    "# compute cosine similarity manually\n",
    "np.inner(vec_a, vec_b) / np.linalg.norm(vec_a) * np.linalg.norm(vec_b)"
   ]
  },
  {
   "cell_type": "code",
   "execution_count": 99,
   "id": "designed-quilt",
   "metadata": {},
   "outputs": [],
   "source": [
    "categories_multiword = {\n",
    "    \"video game\" : \"🎮\",\n",
    "    \"ice cream\": \"🍦\",\n",
    "    \"cream\": \"🥛\",\n",
    "    \"womans boot\": \"👢\",\n",
    "    \"Woman's sandal\": \"👡\",\n",
    "}"
   ]
  },
  {
   "cell_type": "code",
   "execution_count": 100,
   "id": "critical-slovakia",
   "metadata": {},
   "outputs": [],
   "source": [
    "def get_sentence_vector(sentence):\n",
    "    tokens = tokenize(sentence)\n",
    "    print(tokens)\n",
    "    mean_vec = np.mean(vectors.query(tokens), axis=0)\n",
    "    return mean_vec"
   ]
  },
  {
   "cell_type": "code",
   "execution_count": 101,
   "id": "limiting-niagara",
   "metadata": {},
   "outputs": [
    {
     "name": "stdout",
     "output_type": "stream",
     "text": [
      "['video', 'game']\n",
      "['ice', 'cream']\n",
      "['cream']\n",
      "['womans', 'boot']\n",
      "['woman', 'sandal']\n"
     ]
    }
   ],
   "source": [
    "categories_multiword_vecs = [get_sentence_vector(key) for key in categories_multiword.keys()]"
   ]
  },
  {
   "cell_type": "code",
   "execution_count": 102,
   "id": "nonprofit-georgia",
   "metadata": {},
   "outputs": [],
   "source": [
    "def category_multiword(sentence):\n",
    "    mean_vec = get_sentence_vector(sentence)  \n",
    "    similarities = [vectors.similarity(mean_vec, category_vec) for category_vec in categories_multiword_vecs]\n",
    "    most_similar = np.array(similarities).argmax()\n",
    "    emoji = list(categories_multiword)[most_similar]\n",
    "    return {\n",
    "        \"category\": most_similar,\n",
    "        \"emoji\": emoji,\n",
    "    }"
   ]
  },
  {
   "cell_type": "code",
   "execution_count": 103,
   "id": "dense-budget",
   "metadata": {},
   "outputs": [
    {
     "name": "stdout",
     "output_type": "stream",
     "text": [
      "['ice', 'cream']\n"
     ]
    },
    {
     "data": {
      "text/plain": [
       "{'category': 1, 'emoji': 'ice cream'}"
      ]
     },
     "execution_count": 103,
     "metadata": {},
     "output_type": "execute_result"
    }
   ],
   "source": [
    "category_multiword(\"ice cream\")"
   ]
  },
  {
   "cell_type": "code",
   "execution_count": 104,
   "id": "lucky-savings",
   "metadata": {},
   "outputs": [],
   "source": [
    "categories = categories_multiword\n",
    "\n",
    "def category_simple(sentence):\n",
    "    most_similar = vectors.most_similar_to_given(sentence, list(categories.keys()))\n",
    "    emoji = categories[most_similar]\n",
    "    return {\n",
    "        \"category\": most_similar,\n",
    "        \"emoji\": emoji,\n",
    "    }"
   ]
  },
  {
   "cell_type": "code",
   "execution_count": 105,
   "id": "limited-minimum",
   "metadata": {},
   "outputs": [
    {
     "data": {
      "text/plain": [
       "{'category': 'ice cream', 'emoji': '🍦'}"
      ]
     },
     "execution_count": 105,
     "metadata": {},
     "output_type": "execute_result"
    }
   ],
   "source": [
    "category_simple(\"ice cream\")"
   ]
  },
  {
   "cell_type": "code",
   "execution_count": 106,
   "id": "roman-wildlife",
   "metadata": {},
   "outputs": [
    {
     "data": {
      "text/plain": [
       "{'category': 'ice cream', 'emoji': '🍦'}"
      ]
     },
     "execution_count": 106,
     "metadata": {},
     "output_type": "execute_result"
    }
   ],
   "source": [
    "category_simple(\"ice cream\")"
   ]
  },
  {
   "cell_type": "code",
   "execution_count": 107,
   "id": "exempt-gasoline",
   "metadata": {},
   "outputs": [
    {
     "data": {
      "text/plain": [
       "{'category': 'womans boot', 'emoji': '👢'}"
      ]
     },
     "execution_count": 107,
     "metadata": {},
     "output_type": "execute_result"
    }
   ],
   "source": [
    "category_simple(\"Woman's boot\")"
   ]
  },
  {
   "cell_type": "code",
   "execution_count": null,
   "id": "acoustic-falls",
   "metadata": {},
   "outputs": [],
   "source": []
  }
 ],
 "metadata": {
  "kernelspec": {
   "display_name": "Python [conda env:ib031] *",
   "language": "python",
   "name": "conda-env-ib031-py"
  },
  "language_info": {
   "codemirror_mode": {
    "name": "ipython",
    "version": 3
   },
   "file_extension": ".py",
   "mimetype": "text/x-python",
   "name": "python",
   "nbconvert_exporter": "python",
   "pygments_lexer": "ipython3",
   "version": "3.8.8"
  }
 },
 "nbformat": 4,
 "nbformat_minor": 5
}
