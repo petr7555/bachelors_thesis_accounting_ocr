{
 "cells": [
  {
   "cell_type": "code",
   "execution_count": 1,
   "id": "greenhouse-vehicle",
   "metadata": {},
   "outputs": [],
   "source": [
    "from pymagnitude import Magnitude, MagnitudeUtils"
   ]
  },
  {
   "cell_type": "code",
   "execution_count": 2,
   "id": "related-mongolia",
   "metadata": {},
   "outputs": [],
   "source": [
    "vectors = Magnitude(MagnitudeUtils.download_model('word2vec/heavy/GoogleNews-vectors-negative300.magnitude'))"
   ]
  },
  {
   "cell_type": "code",
   "execution_count": 3,
   "id": "laden-consideration",
   "metadata": {},
   "outputs": [],
   "source": [
    "vectors_light = Magnitude(MagnitudeUtils.download_model('word2vec/light/GoogleNews-vectors-negative300.magnitude'))"
   ]
  },
  {
   "cell_type": "code",
   "execution_count": null,
   "id": "removed-giant",
   "metadata": {},
   "outputs": [],
   "source": [
    "vectors.most_similar(\"carrot\")"
   ]
  },
  {
   "cell_type": "code",
   "execution_count": null,
   "id": "catholic-liverpool",
   "metadata": {},
   "outputs": [],
   "source": [
    "vectors.most_similar_approx(\"carrot\")"
   ]
  },
  {
   "cell_type": "code",
   "execution_count": null,
   "id": "continental-engine",
   "metadata": {},
   "outputs": [],
   "source": [
    "vectors_light.most_similar_approx(\"carrot\")"
   ]
  },
  {
   "cell_type": "code",
   "execution_count": null,
   "id": "southern-foster",
   "metadata": {},
   "outputs": [],
   "source": [
    "vectors.similarity(\"carrot\", \"fruit\"), vectors.similarity(\"carrot\", \"vegetables\")"
   ]
  },
  {
   "cell_type": "code",
   "execution_count": null,
   "id": "velvet-singles",
   "metadata": {},
   "outputs": [],
   "source": [
    "categories = {\n",
    "    \"television\" : \"📺\",\n",
    "    \"mobile\" : \"📱\",\n",
    "    \"computer\" : \"💻\",\n",
    "    \"watch\": \"⌚️\",\n",
    "    \"camera\": \"📷\",\n",
    "    \"headphones\": \"🎧\",\n",
    "    \"videogame\" : \"🎮\",\n",
    "    \"paper\": \"📄\",\n",
    "    \"pencil\": \"✏️\",\n",
    "    \"shirt\": \"👕\",\n",
    "    \"jeans\": \"👖\",\n",
    "    \"shoes\": \"👟\",\n",
    "}"
   ]
  },
  {
   "cell_type": "code",
   "execution_count": null,
   "id": "virgin-treaty",
   "metadata": {},
   "outputs": [],
   "source": [
    "list(categories.keys())"
   ]
  },
  {
   "cell_type": "code",
   "execution_count": null,
   "id": "proud-affairs",
   "metadata": {},
   "outputs": [],
   "source": [
    "most_similar = vectors.most_similar_to_given(\"smartphone\", list(categories.keys()))\n",
    "most_similar"
   ]
  },
  {
   "cell_type": "code",
   "execution_count": null,
   "id": "civilian-assets",
   "metadata": {},
   "outputs": [],
   "source": [
    "emoji = categories[most_similar]\n",
    "emoji"
   ]
  },
  {
   "cell_type": "code",
   "execution_count": null,
   "id": "stone-placement",
   "metadata": {},
   "outputs": [],
   "source": [
    "def category(word):\n",
    "    most_similar = vectors.most_similar_to_given(word, list(categories.keys()))\n",
    "    emoji = categories[most_similar]\n",
    "    return {\n",
    "        \"category\": most_similar,\n",
    "        \"emoji\": emoji,\n",
    "    }"
   ]
  },
  {
   "cell_type": "code",
   "execution_count": null,
   "id": "endless-messaging",
   "metadata": {},
   "outputs": [],
   "source": [
    "category(\"smartphone\")"
   ]
  },
  {
   "cell_type": "code",
   "execution_count": null,
   "id": "ancient-cattle",
   "metadata": {},
   "outputs": [],
   "source": [
    "def category(word):\n",
    "    most_similar = vectors.most_similar_to_given(word, list(categories.keys()))\n",
    "    emoji = categories[most_similar]\n",
    "    return {\n",
    "        \"category\": most_similar,\n",
    "        \"emoji\": emoji,\n",
    "    }"
   ]
  },
  {
   "cell_type": "code",
   "execution_count": null,
   "id": "swedish-woman",
   "metadata": {},
   "outputs": [],
   "source": [
    "item = \"ginger carrot soup\""
   ]
  },
  {
   "cell_type": "code",
   "execution_count": null,
   "id": "significant-building",
   "metadata": {},
   "outputs": [],
   "source": [
    "vectors.query([\"I\", \"read\", \"a\", \"book\"])"
   ]
  },
  {
   "cell_type": "code",
   "execution_count": null,
   "id": "sharing-luxury",
   "metadata": {},
   "outputs": [],
   "source": [
    "vectors.similarity(\"cat\", \"dog\")"
   ]
  },
  {
   "cell_type": "code",
   "execution_count": null,
   "id": "sought-algorithm",
   "metadata": {},
   "outputs": [],
   "source": [
    "vectors.distance(\"cat\", \"dog\")"
   ]
  },
  {
   "cell_type": "code",
   "execution_count": null,
   "id": "modular-torture",
   "metadata": {},
   "outputs": [],
   "source": [
    "from scipy import spatial\n",
    "\n",
    "cat_vec = vectors.query(\"cat\")\n",
    "dog_vec = vectors.query(\"dog\")\n",
    "similarity = 1 - spatial.distance.cosine(cat_vec, dog_vec)\n",
    "similarity"
   ]
  },
  {
   "cell_type": "markdown",
   "id": "departmental-albania",
   "metadata": {},
   "source": [
    "### Similarity between sentence and word"
   ]
  },
  {
   "cell_type": "code",
   "execution_count": null,
   "id": "hungry-vietnam",
   "metadata": {},
   "outputs": [],
   "source": [
    "import numpy as np\n",
    "\n",
    "from nltk.tokenize import word_tokenize\n",
    "import nltk\n",
    "nltk.download('punkt')\n",
    "import string\n",
    "from nltk.corpus import stopwords\n",
    "nltk.download('stopwords')"
   ]
  },
  {
   "cell_type": "code",
   "execution_count": null,
   "id": "conscious-simpson",
   "metadata": {},
   "outputs": [],
   "source": [
    "def get_vectors_for(text):\n",
    "    text = text.translate(str.maketrans('', '', string.punctuation)) # text without punctuation\n",
    "    vecs = []\n",
    "    tokenized = word_tokenize(text)\n",
    "    for word in tokenized:\n",
    "        print(word)\n",
    "        word_lower = word.lower()\n",
    "        if word_lower in stopwords.words('english'): # skip stopwords\n",
    "            continue\n",
    "        if word_lower in vectors:\n",
    "            vecs.append(vectors.query(word_lower))\n",
    "    return np.array(vecs)"
   ]
  },
  {
   "cell_type": "code",
   "execution_count": null,
   "id": "accurate-shame",
   "metadata": {},
   "outputs": [],
   "source": [
    "sentence = \"Gin-ger, Carrot. soup!!!\""
   ]
  },
  {
   "cell_type": "code",
   "execution_count": null,
   "id": "pleasant-caribbean",
   "metadata": {},
   "outputs": [],
   "source": [
    "# or simpler\n",
    "from sklearn.feature_extraction.text import CountVectorizer\n",
    "\n",
    "vectorizer = CountVectorizer(stop_words=\"english\")\n",
    "tokenize = vectorizer.build_analyzer()\n",
    "tokenize(sentence)"
   ]
  },
  {
   "cell_type": "code",
   "execution_count": null,
   "id": "departmental-expert",
   "metadata": {},
   "outputs": [],
   "source": [
    "vectors.query(\"soup\")"
   ]
  },
  {
   "cell_type": "code",
   "execution_count": null,
   "id": "fundamental-sunday",
   "metadata": {},
   "outputs": [],
   "source": [
    "np.mean(get_vectors_for(sentence), axis=0)"
   ]
  },
  {
   "cell_type": "code",
   "execution_count": null,
   "id": "brutal-painting",
   "metadata": {},
   "outputs": [],
   "source": [
    "sentence = \"ginger carrot soup\"\n",
    "tokens = sentence.split()"
   ]
  },
  {
   "cell_type": "code",
   "execution_count": null,
   "id": "historical-testament",
   "metadata": {},
   "outputs": [],
   "source": [
    "mean_vec = np.mean(vectors.query(tokens), axis=0)\n",
    "mean_vec"
   ]
  },
  {
   "cell_type": "code",
   "execution_count": null,
   "id": "equal-possible",
   "metadata": {},
   "outputs": [],
   "source": [
    "categories = [\"vegetable\", \"fruit\", \"carrot\", \"yoghurt\"]\n",
    "categories_vec = [vectors.query(category) for category in categories]"
   ]
  },
  {
   "cell_type": "code",
   "execution_count": null,
   "id": "typical-sender",
   "metadata": {},
   "outputs": [],
   "source": [
    "for category, category_vec in zip(categories, categories_vec):\n",
    "    similarity = 1 - spatial.distance.cosine(mean_vec, category_vec)\n",
    "    print(category, similarity)"
   ]
  },
  {
   "cell_type": "code",
   "execution_count": null,
   "id": "geological-maintenance",
   "metadata": {},
   "outputs": [],
   "source": [
    "similarities = []\n",
    "for i in range(len(categories_vec)):\n",
    "    similarity = 1 - spatial.distance.cosine(mean_vec, categories_vec[i])\n",
    "    similarities.append(similarity)\n",
    "categories[np.array(similarities).argmax()]"
   ]
  },
  {
   "cell_type": "code",
   "execution_count": null,
   "id": "everyday-exhibition",
   "metadata": {},
   "outputs": [],
   "source": [
    "vectors.similarity(\"carrot\", \"carrot\")"
   ]
  },
  {
   "cell_type": "code",
   "execution_count": null,
   "id": "fancy-shooting",
   "metadata": {},
   "outputs": [],
   "source": [
    "string.punctuation"
   ]
  },
  {
   "cell_type": "code",
   "execution_count": null,
   "id": "documentary-basin",
   "metadata": {},
   "outputs": [],
   "source": [
    "vectors.most_similar_to_given(categories_vec[2], categories)"
   ]
  },
  {
   "cell_type": "code",
   "execution_count": null,
   "id": "suitable-tomato",
   "metadata": {},
   "outputs": [],
   "source": [
    "categories = {\n",
    "    \"television\" : \"📺\",\n",
    "    \"mobile\" : \"📱\",\n",
    "    \"computer\" : \"💻\",\n",
    "    \"watch\": \"⌚️\",\n",
    "    \"camera\": \"📷\",\n",
    "    \"headphones\": \"🎧\",\n",
    "    \"videogame\" : \"🎮\",\n",
    "    \"paper\": \"📄\",\n",
    "    \"pencil\": \"✏️\",\n",
    "    \"shirt\": \"👕\",\n",
    "    \"jeans\": \"👖\",\n",
    "    \"shoes\": \"👟\",\n",
    "}"
   ]
  },
  {
   "cell_type": "code",
   "execution_count": null,
   "id": "judicial-audit",
   "metadata": {},
   "outputs": [],
   "source": [
    "def category(sentence):\n",
    "    tokens = tokenize(sentence)\n",
    "    mean_vec = np.mean(vectors.query(tokens), axis=0)\n",
    "    most_similar = vectors.most_similar_to_given(mean_vec, list(categories.keys()))\n",
    "    emoji = categories[most_similar]\n",
    "    return {\n",
    "        \"category\": most_similar,\n",
    "        \"emoji\": emoji,\n",
    "    }"
   ]
  },
  {
   "cell_type": "code",
   "execution_count": null,
   "id": "constant-model",
   "metadata": {},
   "outputs": [],
   "source": [
    "category(\"carrot and fruit\")"
   ]
  },
  {
   "cell_type": "code",
   "execution_count": null,
   "id": "plain-thickness",
   "metadata": {},
   "outputs": [],
   "source": [
    "category(\"smartphone\")"
   ]
  },
  {
   "cell_type": "markdown",
   "id": "geological-phoenix",
   "metadata": {},
   "source": [
    "### Cosine similarity"
   ]
  },
  {
   "cell_type": "code",
   "execution_count": null,
   "id": "distinguished-worry",
   "metadata": {},
   "outputs": [],
   "source": [
    "vec_a = vectors.query(\"cat\")\n",
    "vec_b = vectors.query(\"dog\")"
   ]
  },
  {
   "cell_type": "code",
   "execution_count": null,
   "id": "straight-controversy",
   "metadata": {},
   "outputs": [],
   "source": [
    "# cosine similarity\n",
    "similarity = 1 - spatial.distance.cosine(vec_a, vec_b)\n",
    "similarity"
   ]
  },
  {
   "cell_type": "code",
   "execution_count": null,
   "id": "standing-rebate",
   "metadata": {},
   "outputs": [],
   "source": [
    "# cosine distance\n",
    "distance = 1 - similarity\n",
    "distance"
   ]
  },
  {
   "cell_type": "code",
   "execution_count": null,
   "id": "shaped-choice",
   "metadata": {},
   "outputs": [],
   "source": [
    "vectors.similarity(\"cat\", \"dog\")"
   ]
  },
  {
   "cell_type": "code",
   "execution_count": null,
   "id": "traditional-mission",
   "metadata": {},
   "outputs": [],
   "source": [
    "vectors.distance(\"cat\", \"dog\")"
   ]
  },
  {
   "cell_type": "code",
   "execution_count": null,
   "id": "growing-shanghai",
   "metadata": {},
   "outputs": [],
   "source": [
    "from sklearn.metrics.pairwise import cosine_distances\n",
    "cosine_distances([vec_a], [vec_b])"
   ]
  },
  {
   "cell_type": "code",
   "execution_count": null,
   "id": "martial-coordinate",
   "metadata": {},
   "outputs": [],
   "source": [
    "from sklearn.metrics.pairwise import cosine_similarity\n",
    "cosine_similarity([vec_a], [vec_b])"
   ]
  },
  {
   "cell_type": "code",
   "execution_count": null,
   "id": "liable-stomach",
   "metadata": {},
   "outputs": [],
   "source": [
    "# compute cosine similarity manually\n",
    "np.inner(vec_a, vec_b) / np.linalg.norm(vec_a) * np.linalg.norm(vec_b)"
   ]
  },
  {
   "cell_type": "code",
   "execution_count": null,
   "id": "canadian-sleeve",
   "metadata": {},
   "outputs": [],
   "source": [
    "categories_multiword = {\n",
    "    \"video game\" : \"🎮\",\n",
    "    \"ice cream\": \"🍦\",\n",
    "    \"cream\": \"🥛\",\n",
    "    \"womans boot\": \"👢\",\n",
    "    \"Woman's sandal\": \"👡\",\n",
    "}"
   ]
  },
  {
   "cell_type": "code",
   "execution_count": null,
   "id": "bottom-array",
   "metadata": {},
   "outputs": [],
   "source": [
    "def get_sentence_vector(sentence):\n",
    "    tokens = tokenize(sentence)\n",
    "    mean_vec = np.mean(vectors.query(tokens), axis=0)\n",
    "    return mean_vec"
   ]
  },
  {
   "cell_type": "code",
   "execution_count": null,
   "id": "iraqi-forge",
   "metadata": {},
   "outputs": [],
   "source": [
    "categories_multiword_vecs = [get_sentence_vector(key) for key in categories_multiword.keys()]"
   ]
  },
  {
   "cell_type": "code",
   "execution_count": null,
   "id": "neither-worthy",
   "metadata": {},
   "outputs": [],
   "source": [
    "def category_multiword(sentence):\n",
    "    mean_vec = get_sentence_vector(sentence)  \n",
    "    similarities = [vectors.similarity(mean_vec, category_vec) for category_vec in categories_multiword_vecs]\n",
    "    most_similar_index = np.array(similarities).argmax()\n",
    "    most_similar = list(categories_multiword)[most_similar_index]\n",
    "    emoji = categories_multiword[most_similar]\n",
    "    return {\n",
    "        \"category\": most_similar,\n",
    "        \"emoji\": emoji,\n",
    "    }"
   ]
  },
  {
   "cell_type": "code",
   "execution_count": null,
   "id": "applicable-winning",
   "metadata": {},
   "outputs": [],
   "source": [
    "category_multiword(\"ice cream\")"
   ]
  },
  {
   "cell_type": "code",
   "execution_count": null,
   "id": "cutting-flooring",
   "metadata": {},
   "outputs": [],
   "source": [
    "categories = categories_multiword\n",
    "\n",
    "def category_simple(sentence):\n",
    "    most_similar = vectors.most_similar_to_given(sentence, list(categories.keys()))\n",
    "    emoji = categories[most_similar]\n",
    "    return {\n",
    "        \"category\": most_similar,\n",
    "        \"emoji\": emoji,\n",
    "    }"
   ]
  },
  {
   "cell_type": "code",
   "execution_count": null,
   "id": "overall-annual",
   "metadata": {},
   "outputs": [],
   "source": [
    "category_simple(\"ice cream\")"
   ]
  },
  {
   "cell_type": "code",
   "execution_count": null,
   "id": "recovered-comparative",
   "metadata": {},
   "outputs": [],
   "source": [
    "category_simple(\"ice cream\")"
   ]
  },
  {
   "cell_type": "code",
   "execution_count": null,
   "id": "accessible-growing",
   "metadata": {},
   "outputs": [],
   "source": [
    "category_simple(\"Woman's boot\")"
   ]
  }
 ],
 "metadata": {
  "kernelspec": {
   "display_name": "Python [conda env:ib031] *",
   "language": "python",
   "name": "conda-env-ib031-py"
  },
  "language_info": {
   "codemirror_mode": {
    "name": "ipython",
    "version": 3
   },
   "file_extension": ".py",
   "mimetype": "text/x-python",
   "name": "python",
   "nbconvert_exporter": "python",
   "pygments_lexer": "ipython3",
   "version": "3.8.8"
  }
 },
 "nbformat": 4,
 "nbformat_minor": 5
}
