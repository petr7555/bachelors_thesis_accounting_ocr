{
 "cells": [
  {
   "cell_type": "code",
   "execution_count": 1,
   "id": "religious-heater",
   "metadata": {},
   "outputs": [],
   "source": [
    "from pymagnitude import Magnitude, MagnitudeUtils"
   ]
  },
  {
   "cell_type": "code",
   "execution_count": 2,
   "id": "listed-linux",
   "metadata": {},
   "outputs": [],
   "source": [
    "vectors = Magnitude(MagnitudeUtils.download_model('word2vec/heavy/GoogleNews-vectors-negative300.magnitude'))"
   ]
  },
  {
   "cell_type": "code",
   "execution_count": 3,
   "id": "raising-array",
   "metadata": {},
   "outputs": [],
   "source": [
    "vectors_light = Magnitude(MagnitudeUtils.download_model('word2vec/light/GoogleNews-vectors-negative300.magnitude'))"
   ]
  },
  {
   "cell_type": "markdown",
   "id": "average-digit",
   "metadata": {},
   "source": [
    "### Basic pymagnitude usage"
   ]
  },
  {
   "cell_type": "code",
   "execution_count": 4,
   "id": "pressed-drilling",
   "metadata": {},
   "outputs": [
    {
     "data": {
      "text/plain": [
       "[('carrots', 0.7685449),\n",
       " ('proverbial_carrot', 0.5643057),\n",
       " ('Carrot', 0.48995772),\n",
       " ('celery', 0.4753185),\n",
       " ('dangling_carrot', 0.47465426),\n",
       " ('Coarsely_grate', 0.47062412),\n",
       " ('carrot_dangling', 0.4619137),\n",
       " ('broccoli', 0.45493668),\n",
       " ('raisin_salad', 0.45256886),\n",
       " ('shredded_zucchini', 0.44899866)]"
      ]
     },
     "execution_count": 4,
     "metadata": {},
     "output_type": "execute_result"
    }
   ],
   "source": [
    "vectors.most_similar(\"carrot\")"
   ]
  },
  {
   "cell_type": "code",
   "execution_count": 5,
   "id": "separate-particle",
   "metadata": {},
   "outputs": [
    {
     "data": {
      "text/plain": [
       "[('carrots', 0.7685446999923613),\n",
       " ('celery', 0.47531832163405596),\n",
       " ('broccoli', 0.4549365083523469),\n",
       " ('ginger_puree', 0.4444111730874454),\n",
       " ('dangle_carrot', 0.4436831039658671),\n",
       " ('beefsteak_tomatoes', 0.4339051843958259),\n",
       " ('apple_slices', 0.4278265749573791),\n",
       " ('plums', 0.4260337278994655),\n",
       " ('cucumber', 0.4251839295296165),\n",
       " ('peppermint_candy', 0.42477266782699985)]"
      ]
     },
     "execution_count": 5,
     "metadata": {},
     "output_type": "execute_result"
    }
   ],
   "source": [
    "# only heavy model supports most_similar_approx\n",
    "vectors.most_similar_approx(\"carrot\")"
   ]
  },
  {
   "cell_type": "code",
   "execution_count": 6,
   "id": "italian-moses",
   "metadata": {},
   "outputs": [
    {
     "data": {
      "text/plain": [
       "(0.3729638, 0.27530932)"
      ]
     },
     "execution_count": 6,
     "metadata": {},
     "output_type": "execute_result"
    }
   ],
   "source": [
    "vectors.similarity(\"carrot\", \"fruit\"), vectors.similarity(\"carrot\", \"vegetables\")"
   ]
  },
  {
   "cell_type": "code",
   "execution_count": 7,
   "id": "micro-plenty",
   "metadata": {},
   "outputs": [
    {
     "name": "stdout",
     "output_type": "stream",
     "text": [
      "(4, 300)\n"
     ]
    },
    {
     "data": {
      "text/plain": [
       "array([[ 0.0332858 , -0.0021189 ,  0.0470522 , ..., -0.0028509 ,\n",
       "         0.0179784 , -0.0435592 ],\n",
       "       [-0.0131628 , -0.0455637 , -0.0483987 , ..., -0.0115428 ,\n",
       "        -0.0429311 , -0.0289582 ],\n",
       "       [-0.01974812,  0.08088748,  0.00189519, ...,  0.06656797,\n",
       "         0.01162064,  0.01157236],\n",
       "       [ 0.0448648 , -0.0103908 , -0.0178682 , ...,  0.0384555 ,\n",
       "        -0.0229179 , -0.0020514 ]], dtype=float32)"
      ]
     },
     "execution_count": 7,
     "metadata": {},
     "output_type": "execute_result"
    }
   ],
   "source": [
    "# it is possible to query a list of words\n",
    "result = vectors.query([\"I\", \"read\", \"a\", \"book\"])\n",
    "print(result.shape)\n",
    "result"
   ]
  },
  {
   "cell_type": "code",
   "execution_count": 8,
   "id": "surgical-pricing",
   "metadata": {},
   "outputs": [
    {
     "data": {
      "text/plain": [
       "(4, 300)"
      ]
     },
     "execution_count": 8,
     "metadata": {},
     "output_type": "execute_result"
    }
   ],
   "source": [
    "import numpy as np\n",
    "\n",
    "# it is the same as querying each word and appending the vector to a list and converting to numpy array\n",
    "result = []\n",
    "for word in [\"I\", \"read\", \"a\", \"book\"]:\n",
    "    result.append(vectors.query(word))\n",
    "np.array(result).shape"
   ]
  },
  {
   "cell_type": "markdown",
   "id": "optical-model",
   "metadata": {},
   "source": [
    "## Get a vector from a sentence"
   ]
  },
  {
   "cell_type": "markdown",
   "id": "elementary-relaxation",
   "metadata": {},
   "source": [
    "### Using nltk"
   ]
  },
  {
   "cell_type": "code",
   "execution_count": 9,
   "id": "instrumental-custody",
   "metadata": {},
   "outputs": [],
   "source": [
    "import numpy as np\n",
    "import nltk\n",
    "import string\n",
    "from nltk.tokenize import word_tokenize\n",
    "from nltk.corpus import stopwords\n",
    "\n",
    "nltk.download('punkt', quiet=True)\n",
    "nltk.download('stopwords', quiet=True)\n",
    "pass"
   ]
  },
  {
   "cell_type": "code",
   "execution_count": 10,
   "id": "catholic-account",
   "metadata": {},
   "outputs": [],
   "source": [
    "def get_mean_vec_nltk(sentence):\n",
    "    sentence = sentence.translate(str.maketrans('', '', string.punctuation)) # sentence without punctuation\n",
    "    tokens = word_tokenize(sentence)\n",
    "    \n",
    "    vecs = []\n",
    "    for word in tokens:\n",
    "        word_lower = word.lower()\n",
    "        if word_lower in stopwords.words('english'): # skip stopwords\n",
    "            continue\n",
    "        if word_lower in vectors:\n",
    "            print(word_lower)\n",
    "            vecs.append(vectors.query(word_lower))\n",
    "            \n",
    "    print(np.array(vecs).shape)\n",
    "    return np.mean(vecs, axis=0)"
   ]
  },
  {
   "cell_type": "code",
   "execution_count": 11,
   "id": "traditional-principal",
   "metadata": {},
   "outputs": [
    {
     "data": {
      "text/plain": [
       "'!\"#$%&\\'()*+,-./:;<=>?@[\\\\]^_`{|}~'"
      ]
     },
     "execution_count": 11,
     "metadata": {},
     "output_type": "execute_result"
    }
   ],
   "source": [
    "string.punctuation"
   ]
  },
  {
   "cell_type": "code",
   "execution_count": 12,
   "id": "marked-fountain",
   "metadata": {},
   "outputs": [
    {
     "name": "stdout",
     "output_type": "stream",
     "text": [
      "ginger\n",
      "carrot\n",
      "soup\n",
      "(3, 300)\n"
     ]
    },
    {
     "data": {
      "text/plain": [
       "array([-3.82726006e-02,  6.88864961e-02,  1.13998661e-02,  8.47308636e-02,\n",
       "        3.09115350e-02,  6.98080054e-03,  4.66029346e-02, -7.67960325e-02,\n",
       "       -3.97804640e-02,  7.82321319e-02, -4.38365638e-02, -3.68401669e-02,\n",
       "        2.72793253e-03,  6.29672036e-02, -1.17294811e-01,  6.74639642e-02,\n",
       "       -5.92347346e-02, -5.35799796e-03, -6.85786009e-02, -1.31368697e-01,\n",
       "        1.44090327e-02,  5.43683656e-02,  7.51434639e-02, -1.28464662e-02,\n",
       "        1.44738005e-02, -6.27673343e-02, -3.92605029e-02,  4.99931984e-02,\n",
       "       -4.53256965e-02,  5.21523356e-02,  1.01935333e-02,  2.69586984e-02,\n",
       "        5.36336703e-03, -4.85099368e-02, -4.00059950e-03,  6.88883290e-03,\n",
       "        1.79078002e-02,  2.27759965e-03,  2.61274334e-02,  5.48931360e-02,\n",
       "       -1.12914657e-02, -7.56996945e-02,  2.07556989e-02,  2.77133379e-03,\n",
       "       -4.64606611e-03, -1.21082805e-01, -6.41838014e-02, -3.85268331e-02,\n",
       "        4.77593988e-02,  2.92357355e-02, -6.15815334e-02,  6.91258311e-02,\n",
       "       -2.66396999e-02,  2.08948012e-02,  1.50751015e-02, -3.15913255e-03,\n",
       "       -2.81322356e-02, -8.06916598e-03, -3.12241334e-02, -5.75360358e-02,\n",
       "       -3.81400324e-02,  5.07575311e-02,  5.51933283e-03,  6.36182353e-02,\n",
       "        5.38293272e-03, -6.96754679e-02, -3.76493670e-02, -7.65416026e-02,\n",
       "        3.69212329e-02, -3.57353338e-03,  4.02078331e-02, -1.43328654e-02,\n",
       "        2.06079963e-03, -2.18726625e-03, -2.11614668e-02, -2.61503998e-02,\n",
       "       -4.81394641e-02,  8.48403480e-03,  4.96581346e-02, -3.80349346e-02,\n",
       "        3.59235667e-02, -1.96616333e-02,  1.76802669e-02, -2.38061994e-02,\n",
       "        7.40143284e-03, -4.59254347e-02, -1.82506687e-03,  4.31887023e-02,\n",
       "        1.98560003e-02, -3.40700001e-02, -2.73773000e-02, -2.36437675e-02,\n",
       "       -1.92880668e-02, -6.77751005e-02,  5.25633164e-04, -2.27842648e-02,\n",
       "        1.41859008e-02, -1.47379339e-02,  2.61318982e-02,  5.63659938e-03,\n",
       "       -6.45600632e-02,  2.16863421e-03, -6.30469993e-03,  4.38717641e-02,\n",
       "       -3.53540331e-02, -3.35772336e-02,  8.08219686e-02, -2.13986705e-03,\n",
       "        4.93869036e-02, -5.08327000e-02, -5.31082340e-02, -4.91439663e-02,\n",
       "       -1.12316629e-03,  4.25668322e-02, -7.38618001e-02, -4.87484969e-02,\n",
       "        4.22200672e-02, -4.99332659e-02, -5.85083291e-03, -2.77657658e-02,\n",
       "        8.87299981e-03, -1.19931325e-02, -4.03811336e-02, -3.46999615e-04,\n",
       "       -7.10773692e-02,  4.29469980e-02,  4.01173392e-03,  3.92103642e-02,\n",
       "        8.40458646e-02,  3.32878344e-02, -5.79803400e-02,  6.33435324e-02,\n",
       "        2.06360011e-03,  1.39221326e-02, -6.13353960e-02,  9.37422737e-02,\n",
       "       -4.42316756e-03, -1.60719324e-02,  4.86815013e-02,  4.97061647e-02,\n",
       "        2.38631982e-02, -1.06325001e-02, -3.31579335e-02, -1.85784660e-02,\n",
       "        8.21583346e-02,  1.41791329e-02, -5.38670719e-02,  8.59836768e-03,\n",
       "       -7.01706037e-02,  4.79076616e-03,  1.54196331e-02, -2.54337657e-02,\n",
       "       -4.72941287e-02,  7.55857006e-02,  1.59604345e-02, -6.93809986e-02,\n",
       "       -5.13926335e-02, -5.15672378e-02, -7.99577311e-02,  5.43416711e-03,\n",
       "       -4.60956991e-02, -2.43699681e-02,  3.09279021e-02,  1.93723347e-02,\n",
       "       -2.98885014e-02, -3.00275665e-02,  5.19933291e-02,  1.28177656e-02,\n",
       "       -1.83022339e-02,  1.26456330e-02, -4.53153998e-02,  5.96885979e-02,\n",
       "       -3.37487645e-02,  9.00316704e-03, -7.73761347e-02, -4.43082005e-02,\n",
       "        7.98472017e-02, -9.44994390e-05, -2.24101003e-02,  5.95395304e-02,\n",
       "       -1.56952348e-02, -6.31938949e-02,  1.21569948e-03,  1.05072334e-02,\n",
       "       -5.45326620e-03, -1.88771021e-02, -1.29470341e-02,  3.47447693e-02,\n",
       "       -3.51048671e-02, -3.93698327e-02, -8.91943276e-02,  3.71261351e-02,\n",
       "        3.21733207e-03, -1.61284655e-02,  5.67931645e-02,  9.66710374e-02,\n",
       "       -2.98035312e-02,  3.11687011e-02, -6.96581304e-02,  2.29296330e-02,\n",
       "       -1.93987656e-02, -4.12647314e-02,  7.85189960e-03,  5.08240005e-03,\n",
       "       -1.78082995e-02, -3.26031335e-02, -1.01814335e-02,  1.67975333e-02,\n",
       "        3.60696646e-03, -2.04569642e-02, -1.21569134e-01, -7.33166700e-03,\n",
       "       -2.28955988e-02,  3.51812653e-02,  1.12448335e-02,  1.43060004e-02,\n",
       "       -6.13016635e-03,  3.02311014e-02,  6.76933303e-02,  7.32727349e-02,\n",
       "        2.28532013e-02,  5.67570003e-03,  2.15522647e-02, -2.72703334e-03,\n",
       "        1.52682671e-02,  2.54480336e-02,  1.31161660e-02, -2.03307662e-02,\n",
       "        1.20456656e-02,  1.51812667e-02,  1.38659663e-02, -2.45018676e-02,\n",
       "        6.57529011e-02,  4.44640033e-02, -3.50472331e-02, -5.34363687e-02,\n",
       "        9.59106628e-03, -4.57964353e-02,  4.88109291e-02,  8.39523319e-03,\n",
       "        8.37332979e-02,  2.90795658e-02,  2.92468313e-02,  3.87562327e-02,\n",
       "       -1.09500031e-03, -7.02830330e-02, -6.12976290e-02,  6.29533678e-02,\n",
       "        3.06946337e-02,  2.90927663e-02, -4.62242961e-02, -3.84949334e-02,\n",
       "        1.09180175e-01,  1.00614997e-02,  3.70960012e-02, -6.70927688e-02,\n",
       "       -4.86407317e-02, -8.28597620e-02, -2.24764664e-02, -2.77462006e-02,\n",
       "        6.94703981e-02,  8.68868008e-02, -1.13990135e-01,  4.26533036e-02,\n",
       "       -2.12203339e-02, -2.87067350e-02, -7.35335276e-02,  1.57367010e-02,\n",
       "       -5.44715337e-02, -7.56058618e-02,  2.63182987e-02,  1.62678342e-02,\n",
       "        6.62094727e-02, -2.80013997e-02,  5.43459989e-02, -2.82743271e-03,\n",
       "        6.72666996e-04, -2.22705994e-02, -2.04403996e-02,  2.39189658e-02,\n",
       "        9.97993350e-03,  5.30328341e-02,  2.38570329e-02, -1.83264669e-02,\n",
       "       -4.55051661e-02, -5.92558347e-02, -5.43995984e-02,  3.66058312e-02,\n",
       "       -2.32789312e-02,  6.51598647e-02, -3.81611995e-02, -2.38614324e-02,\n",
       "        8.97976663e-03,  3.78728993e-02,  4.62975316e-02, -1.63886342e-02,\n",
       "       -1.51614659e-02,  4.77272682e-02,  4.60443981e-02,  2.68854331e-02],\n",
       "      dtype=float32)"
      ]
     },
     "execution_count": 12,
     "metadata": {},
     "output_type": "execute_result"
    }
   ],
   "source": [
    "mean_vec_nltk = get_mean_vec_nltk(\"Gin-ger, Carrot. soup!!!\")\n",
    "mean_vec_nltk"
   ]
  },
  {
   "cell_type": "markdown",
   "id": "entitled-humidity",
   "metadata": {},
   "source": [
    "### Using sklearn tokenizer"
   ]
  },
  {
   "cell_type": "code",
   "execution_count": 13,
   "id": "palestinian-management",
   "metadata": {
    "tags": []
   },
   "outputs": [],
   "source": [
    "from sklearn.feature_extraction.text import CountVectorizer\n",
    "\n",
    "def get_mean_vec_tokenizer(sentence):\n",
    "    vectorizer = CountVectorizer(stop_words=\"english\")\n",
    "    tokenize = vectorizer.build_analyzer()\n",
    "    tokens = tokenize(sentence)\n",
    "    print(tokens)\n",
    "    \n",
    "    vecs = vectors.query(tokens)\n",
    "    print(vecs.shape)\n",
    "    \n",
    "    return np.mean(vecs, axis=0)"
   ]
  },
  {
   "cell_type": "code",
   "execution_count": 14,
   "id": "greatest-easter",
   "metadata": {},
   "outputs": [
    {
     "name": "stdout",
     "output_type": "stream",
     "text": [
      "['gin', 'ger', 'carrot', 'soup']\n",
      "(4, 300)\n"
     ]
    },
    {
     "data": {
      "text/plain": [
       "array([-0.01446415,  0.05315382,  0.0025164 ,  0.06717843, -0.01500367,\n",
       "        0.00552063,  0.01404245, -0.05438235, -0.01472828,  0.06645077,\n",
       "       -0.0081687 , -0.04797465, -0.05127674,  0.05805258, -0.07532087,\n",
       "        0.05604888, -0.01085855,  0.02669287, -0.00987417, -0.08990412,\n",
       "        0.00031438,  0.03512045,  0.05480458, -0.0165348 ,  0.02219485,\n",
       "       -0.03278407, -0.0716916 ,  0.06664208, -0.05481673,  0.04298195,\n",
       "       -0.00633855,  0.03806415, -0.00093902, -0.02398727, -0.0106668 ,\n",
       "        0.01767807,  0.03986753,  0.0404997 ,  0.0355647 ,  0.00229858,\n",
       "       -0.0026229 , -0.03088055,  0.01656757,  0.00391013, -0.0207961 ,\n",
       "       -0.08400465, -0.05062438, -0.0233638 ,  0.0036168 ,  0.03652943,\n",
       "       -0.03163557,  0.043674  , -0.0207148 ,  0.01630798, -0.0174227 ,\n",
       "       -0.012678  , -0.02822323,  0.00759573, -0.0358003 , -0.08306959,\n",
       "       -0.01682785,  0.02608917, -0.0430061 ,  0.05345447,  0.02478633,\n",
       "       -0.0773314 , -0.0435354 , -0.07119825,  0.00759793,  0.02219915,\n",
       "        0.05895455,  0.00338725,  0.0294577 ,  0.0193241 , -0.0117617 ,\n",
       "        0.01565117,  0.00937555,  0.02261945,  0.02040118, -0.07295407,\n",
       "        0.0064186 , -0.03682132, -0.04520927, -0.03573193, -0.00075653,\n",
       "        0.01581643,  0.00442422,  0.03378447,  0.01224963, -0.02328867,\n",
       "       -0.0355552 ,  0.0084694 ,  0.00713717, -0.05018785,  0.00462935,\n",
       "       -0.00312087,  0.0427564 , -0.00941983,  0.01686785, -0.05576767,\n",
       "       -0.06838495, -0.00256615,  0.0194983 ,  0.05908178, -0.03076427,\n",
       "        0.00434705,  0.05570125,  0.03791133,  0.00727285, -0.03974868,\n",
       "       -0.02036553, -0.05423903,  0.01240415, -0.00994247, -0.02048625,\n",
       "       -0.01576135,  0.03783533, -0.01997137, -0.03675625, -0.04080798,\n",
       "       -0.00977   , -0.00779978, -0.01271075,  0.00371587,  0.00172652,\n",
       "        0.02930032,  0.00662385,  0.0169945 ,  0.06878068,  0.0122355 ,\n",
       "       -0.02372707,  0.05414537, -0.02076352,  0.0201395 , -0.036421  ,\n",
       "        0.08374645, -0.00627953,  0.00240137,  0.068451  ,  0.0239802 ,\n",
       "        0.04099908, -0.03697845, -0.02123243, -0.0254734 ,  0.0529766 ,\n",
       "        0.0027918 , -0.06539433,  0.0107146 , -0.04442358, -0.027827  ,\n",
       "        0.05424768, -0.03089875, -0.03718557, -0.00721388, -0.03685068,\n",
       "       -0.03422975,  0.01350848,  0.00895645, -0.05901928, -0.0032076 ,\n",
       "       -0.04141568, -0.03449918, -0.0059608 , -0.00482865, -0.0006707 ,\n",
       "       -0.01021695,  0.07118575,  0.02348007, -0.0285256 ,  0.01359587,\n",
       "       -0.05639603,  0.03105032, -0.0054968 ,  0.0033194 , -0.0534104 ,\n",
       "       -0.0249686 ,  0.04900138,  0.01706545, -0.01670098,  0.0319422 ,\n",
       "       -0.01116492, -0.04133207, -0.02737115,  0.0124031 ,  0.0202842 ,\n",
       "       -0.0199946 ,  0.0005755 ,  0.04970145, -0.02058057, -0.0126245 ,\n",
       "       -0.05478537,  0.00626083,  0.02738117,  0.03182267,  0.04589943,\n",
       "        0.06102925, -0.03401775, -0.01207072, -0.0439495 ,  0.02030108,\n",
       "       -0.01899615, -0.0264192 ,  0.0366606 , -0.01260995, -0.01267323,\n",
       "       -0.04533203,  0.01816658,  0.00739487, -0.04301057,  0.01347685,\n",
       "       -0.04393587, -0.00570382, -0.03661045,  0.03086545, -0.01130705,\n",
       "       -0.0007121 , -0.00799325, -0.00470752,  0.0596962 ,  0.06536362,\n",
       "       -0.0152533 ,  0.00923838,  0.055879  ,  0.03218732,  0.0330453 ,\n",
       "        0.00422155,  0.0179452 ,  0.02490185,  0.0147287 , -0.0177376 ,\n",
       "       -0.0157055 , -0.03281467,  0.02843722,  0.02893287,  0.01300643,\n",
       "       -0.05681782,  0.01734548, -0.00654385,  0.0467525 ,  0.04187105,\n",
       "        0.0635353 ,  0.00423995,  0.03451425,  0.03038757,  0.04009037,\n",
       "       -0.05459227, -0.0159452 ,  0.08980087,  0.00578958,  0.02259473,\n",
       "       -0.02551968, -0.0013371 ,  0.10138252,  0.0067476 ,  0.01284182,\n",
       "       -0.01806445, -0.05120907, -0.05233607, -0.00170085, -0.0352005 ,\n",
       "        0.0341763 ,  0.0705953 , -0.03909855,  0.0237239 , -0.03600857,\n",
       "       -0.00443943, -0.02157333, -0.02801445, -0.05313872, -0.03526002,\n",
       "       -0.02887285,  0.00691287,  0.03249932, -0.00316533,  0.03248825,\n",
       "       -0.03440318, -0.04385218, -0.04207338, -0.03587535,  0.025691  ,\n",
       "       -0.0100497 ,  0.00137055,  0.05416368, -0.03568232, -0.0301935 ,\n",
       "       -0.01498237, -0.02740153,  0.0377959 , -0.03581015,  0.0406939 ,\n",
       "       -0.04234207, -0.01640465, -0.00876355,  0.03277948, -0.00967488,\n",
       "       -0.04037225, -0.01782713,  0.00473037,  0.0359285 ,  0.01098938],\n",
       "      dtype=float32)"
      ]
     },
     "execution_count": 14,
     "metadata": {},
     "output_type": "execute_result"
    }
   ],
   "source": [
    "mean_vec_tokenizer = get_mean_vec_tokenizer(\"Gin-ger, Carrot. soup!!!\")\n",
    "mean_vec_tokenizer"
   ]
  },
  {
   "cell_type": "markdown",
   "id": "fifty-alias",
   "metadata": {},
   "source": [
    "### Using split()"
   ]
  },
  {
   "cell_type": "code",
   "execution_count": 15,
   "id": "governmental-ability",
   "metadata": {},
   "outputs": [],
   "source": [
    "def get_mean_vec_split(sentence):\n",
    "    tokens = sentence.split()\n",
    "    print(tokens)\n",
    "    \n",
    "    vecs = vectors.query(tokens)\n",
    "    print(vecs.shape)\n",
    "    \n",
    "    return np.mean(vecs, axis=0)"
   ]
  },
  {
   "cell_type": "code",
   "execution_count": 16,
   "id": "radio-energy",
   "metadata": {},
   "outputs": [
    {
     "name": "stdout",
     "output_type": "stream",
     "text": [
      "['ginger', 'carrot', 'soup']\n",
      "(3, 300)\n"
     ]
    },
    {
     "data": {
      "text/plain": [
       "array([-3.82726006e-02,  6.88864961e-02,  1.13998661e-02,  8.47308636e-02,\n",
       "        3.09115350e-02,  6.98080054e-03,  4.66029346e-02, -7.67960325e-02,\n",
       "       -3.97804640e-02,  7.82321319e-02, -4.38365638e-02, -3.68401669e-02,\n",
       "        2.72793253e-03,  6.29672036e-02, -1.17294811e-01,  6.74639642e-02,\n",
       "       -5.92347346e-02, -5.35799796e-03, -6.85786009e-02, -1.31368697e-01,\n",
       "        1.44090327e-02,  5.43683656e-02,  7.51434639e-02, -1.28464662e-02,\n",
       "        1.44738005e-02, -6.27673343e-02, -3.92605029e-02,  4.99931984e-02,\n",
       "       -4.53256965e-02,  5.21523356e-02,  1.01935333e-02,  2.69586984e-02,\n",
       "        5.36336703e-03, -4.85099368e-02, -4.00059950e-03,  6.88883290e-03,\n",
       "        1.79078002e-02,  2.27759965e-03,  2.61274334e-02,  5.48931360e-02,\n",
       "       -1.12914657e-02, -7.56996945e-02,  2.07556989e-02,  2.77133379e-03,\n",
       "       -4.64606611e-03, -1.21082805e-01, -6.41838014e-02, -3.85268331e-02,\n",
       "        4.77593988e-02,  2.92357355e-02, -6.15815334e-02,  6.91258311e-02,\n",
       "       -2.66396999e-02,  2.08948012e-02,  1.50751015e-02, -3.15913255e-03,\n",
       "       -2.81322356e-02, -8.06916598e-03, -3.12241334e-02, -5.75360358e-02,\n",
       "       -3.81400324e-02,  5.07575311e-02,  5.51933283e-03,  6.36182353e-02,\n",
       "        5.38293272e-03, -6.96754679e-02, -3.76493670e-02, -7.65416026e-02,\n",
       "        3.69212329e-02, -3.57353338e-03,  4.02078331e-02, -1.43328654e-02,\n",
       "        2.06079963e-03, -2.18726625e-03, -2.11614668e-02, -2.61503998e-02,\n",
       "       -4.81394641e-02,  8.48403480e-03,  4.96581346e-02, -3.80349346e-02,\n",
       "        3.59235667e-02, -1.96616333e-02,  1.76802669e-02, -2.38061994e-02,\n",
       "        7.40143284e-03, -4.59254347e-02, -1.82506687e-03,  4.31887023e-02,\n",
       "        1.98560003e-02, -3.40700001e-02, -2.73773000e-02, -2.36437675e-02,\n",
       "       -1.92880668e-02, -6.77751005e-02,  5.25633164e-04, -2.27842648e-02,\n",
       "        1.41859008e-02, -1.47379339e-02,  2.61318982e-02,  5.63659938e-03,\n",
       "       -6.45600632e-02,  2.16863421e-03, -6.30469993e-03,  4.38717641e-02,\n",
       "       -3.53540331e-02, -3.35772336e-02,  8.08219686e-02, -2.13986705e-03,\n",
       "        4.93869036e-02, -5.08327000e-02, -5.31082340e-02, -4.91439663e-02,\n",
       "       -1.12316629e-03,  4.25668322e-02, -7.38618001e-02, -4.87484969e-02,\n",
       "        4.22200672e-02, -4.99332659e-02, -5.85083291e-03, -2.77657658e-02,\n",
       "        8.87299981e-03, -1.19931325e-02, -4.03811336e-02, -3.46999615e-04,\n",
       "       -7.10773692e-02,  4.29469980e-02,  4.01173392e-03,  3.92103642e-02,\n",
       "        8.40458646e-02,  3.32878344e-02, -5.79803400e-02,  6.33435324e-02,\n",
       "        2.06360011e-03,  1.39221326e-02, -6.13353960e-02,  9.37422737e-02,\n",
       "       -4.42316756e-03, -1.60719324e-02,  4.86815013e-02,  4.97061647e-02,\n",
       "        2.38631982e-02, -1.06325001e-02, -3.31579335e-02, -1.85784660e-02,\n",
       "        8.21583346e-02,  1.41791329e-02, -5.38670719e-02,  8.59836768e-03,\n",
       "       -7.01706037e-02,  4.79076616e-03,  1.54196331e-02, -2.54337657e-02,\n",
       "       -4.72941287e-02,  7.55857006e-02,  1.59604345e-02, -6.93809986e-02,\n",
       "       -5.13926335e-02, -5.15672378e-02, -7.99577311e-02,  5.43416711e-03,\n",
       "       -4.60956991e-02, -2.43699681e-02,  3.09279021e-02,  1.93723347e-02,\n",
       "       -2.98885014e-02, -3.00275665e-02,  5.19933291e-02,  1.28177656e-02,\n",
       "       -1.83022339e-02,  1.26456330e-02, -4.53153998e-02,  5.96885979e-02,\n",
       "       -3.37487645e-02,  9.00316704e-03, -7.73761347e-02, -4.43082005e-02,\n",
       "        7.98472017e-02, -9.44994390e-05, -2.24101003e-02,  5.95395304e-02,\n",
       "       -1.56952348e-02, -6.31938949e-02,  1.21569948e-03,  1.05072334e-02,\n",
       "       -5.45326620e-03, -1.88771021e-02, -1.29470341e-02,  3.47447693e-02,\n",
       "       -3.51048671e-02, -3.93698327e-02, -8.91943276e-02,  3.71261351e-02,\n",
       "        3.21733207e-03, -1.61284655e-02,  5.67931645e-02,  9.66710374e-02,\n",
       "       -2.98035312e-02,  3.11687011e-02, -6.96581304e-02,  2.29296330e-02,\n",
       "       -1.93987656e-02, -4.12647314e-02,  7.85189960e-03,  5.08240005e-03,\n",
       "       -1.78082995e-02, -3.26031335e-02, -1.01814335e-02,  1.67975333e-02,\n",
       "        3.60696646e-03, -2.04569642e-02, -1.21569134e-01, -7.33166700e-03,\n",
       "       -2.28955988e-02,  3.51812653e-02,  1.12448335e-02,  1.43060004e-02,\n",
       "       -6.13016635e-03,  3.02311014e-02,  6.76933303e-02,  7.32727349e-02,\n",
       "        2.28532013e-02,  5.67570003e-03,  2.15522647e-02, -2.72703334e-03,\n",
       "        1.52682671e-02,  2.54480336e-02,  1.31161660e-02, -2.03307662e-02,\n",
       "        1.20456656e-02,  1.51812667e-02,  1.38659663e-02, -2.45018676e-02,\n",
       "        6.57529011e-02,  4.44640033e-02, -3.50472331e-02, -5.34363687e-02,\n",
       "        9.59106628e-03, -4.57964353e-02,  4.88109291e-02,  8.39523319e-03,\n",
       "        8.37332979e-02,  2.90795658e-02,  2.92468313e-02,  3.87562327e-02,\n",
       "       -1.09500031e-03, -7.02830330e-02, -6.12976290e-02,  6.29533678e-02,\n",
       "        3.06946337e-02,  2.90927663e-02, -4.62242961e-02, -3.84949334e-02,\n",
       "        1.09180175e-01,  1.00614997e-02,  3.70960012e-02, -6.70927688e-02,\n",
       "       -4.86407317e-02, -8.28597620e-02, -2.24764664e-02, -2.77462006e-02,\n",
       "        6.94703981e-02,  8.68868008e-02, -1.13990135e-01,  4.26533036e-02,\n",
       "       -2.12203339e-02, -2.87067350e-02, -7.35335276e-02,  1.57367010e-02,\n",
       "       -5.44715337e-02, -7.56058618e-02,  2.63182987e-02,  1.62678342e-02,\n",
       "        6.62094727e-02, -2.80013997e-02,  5.43459989e-02, -2.82743271e-03,\n",
       "        6.72666996e-04, -2.22705994e-02, -2.04403996e-02,  2.39189658e-02,\n",
       "        9.97993350e-03,  5.30328341e-02,  2.38570329e-02, -1.83264669e-02,\n",
       "       -4.55051661e-02, -5.92558347e-02, -5.43995984e-02,  3.66058312e-02,\n",
       "       -2.32789312e-02,  6.51598647e-02, -3.81611995e-02, -2.38614324e-02,\n",
       "        8.97976663e-03,  3.78728993e-02,  4.62975316e-02, -1.63886342e-02,\n",
       "       -1.51614659e-02,  4.77272682e-02,  4.60443981e-02,  2.68854331e-02],\n",
       "      dtype=float32)"
      ]
     },
     "execution_count": 16,
     "metadata": {},
     "output_type": "execute_result"
    }
   ],
   "source": [
    "mean_vec_split = get_mean_vec_split(\"ginger carrot soup\")\n",
    "mean_vec_split"
   ]
  },
  {
   "cell_type": "markdown",
   "id": "native-handle",
   "metadata": {},
   "source": [
    "## Find the most similar category"
   ]
  },
  {
   "cell_type": "code",
   "execution_count": 17,
   "id": "cognitive-stylus",
   "metadata": {},
   "outputs": [
    {
     "data": {
      "text/plain": [
       "array([[-0.0204747,  0.0424415,  0.0081236, ...,  0.0633307,  0.051394 ,\n",
       "         0.0566992],\n",
       "       [-0.0192403,  0.0223799, -0.0177912, ...,  0.0278542,  0.0076076,\n",
       "         0.0801814],\n",
       "       [ 0.0231406,  0.0913366,  0.0369331, ...,  0.0027393, -0.0161678,\n",
       "        -0.0003304],\n",
       "       [ 0.0293025, -0.0195826,  0.0554603, ...,  0.0597484,  0.0168668,\n",
       "        -0.0405946]], dtype=float32)"
      ]
     },
     "execution_count": 17,
     "metadata": {},
     "output_type": "execute_result"
    }
   ],
   "source": [
    "categories = [\"vegetable\", \"fruit\", \"carrot\", \"yoghurt\"]\n",
    "categories_vecs = vectors.query(categories)\n",
    "categories_vecs"
   ]
  },
  {
   "cell_type": "code",
   "execution_count": 18,
   "id": "present-advance",
   "metadata": {},
   "outputs": [
    {
     "name": "stdout",
     "output_type": "stream",
     "text": [
      "vegetable 0.5529444217681885\n",
      "fruit 0.4844015836715698\n",
      "carrot 0.7097286581993103\n",
      "yoghurt 0.5526320934295654\n"
     ]
    },
    {
     "data": {
      "text/plain": [
       "'carrot'"
      ]
     },
     "execution_count": 18,
     "metadata": {},
     "output_type": "execute_result"
    }
   ],
   "source": [
    "from scipy import spatial\n",
    "\n",
    "similarities = []\n",
    "for category, category_vec in zip(categories, categories_vecs):\n",
    "    similarity = 1 - spatial.distance.cosine(mean_vec_nltk, category_vec)\n",
    "    similarities.append(similarity)\n",
    "    print(category, similarity)\n",
    "    \n",
    "categories[np.array(similarities).argmax()]"
   ]
  },
  {
   "cell_type": "code",
   "execution_count": 19,
   "id": "miniature-butterfly",
   "metadata": {},
   "outputs": [
    {
     "data": {
      "text/plain": [
       "1.0"
      ]
     },
     "execution_count": 19,
     "metadata": {},
     "output_type": "execute_result"
    }
   ],
   "source": [
    "vectors.similarity(\"carrot\", \"carrot\")"
   ]
  },
  {
   "cell_type": "code",
   "execution_count": 20,
   "id": "illegal-brake",
   "metadata": {},
   "outputs": [
    {
     "data": {
      "text/plain": [
       "1.0"
      ]
     },
     "execution_count": 20,
     "metadata": {},
     "output_type": "execute_result"
    }
   ],
   "source": [
    "vectors.similarity(vectors.query(\"carrot\"), \"carrot\")"
   ]
  },
  {
   "cell_type": "code",
   "execution_count": 21,
   "id": "breeding-column",
   "metadata": {},
   "outputs": [
    {
     "data": {
      "text/plain": [
       "'carrot'"
      ]
     },
     "execution_count": 21,
     "metadata": {},
     "output_type": "execute_result"
    }
   ],
   "source": [
    "vectors.most_similar_to_given(\"carrot\", categories)"
   ]
  },
  {
   "cell_type": "code",
   "execution_count": 22,
   "id": "educated-assets",
   "metadata": {},
   "outputs": [
    {
     "data": {
      "text/plain": [
       "'carrot'"
      ]
     },
     "execution_count": 22,
     "metadata": {},
     "output_type": "execute_result"
    }
   ],
   "source": [
    "vectors.most_similar_to_given(vectors.query(\"carrot\"), categories)"
   ]
  },
  {
   "cell_type": "code",
   "execution_count": 23,
   "id": "operating-orientation",
   "metadata": {},
   "outputs": [
    {
     "data": {
      "text/plain": [
       "'yoghurt'"
      ]
     },
     "execution_count": 23,
     "metadata": {},
     "output_type": "execute_result"
    }
   ],
   "source": [
    "vectors.most_similar_to_given(\"ginger carrot soup\", categories)"
   ]
  },
  {
   "cell_type": "code",
   "execution_count": 24,
   "id": "angry-hospital",
   "metadata": {},
   "outputs": [
    {
     "data": {
      "text/plain": [
       "'carrot'"
      ]
     },
     "execution_count": 24,
     "metadata": {},
     "output_type": "execute_result"
    }
   ],
   "source": [
    "vectors.most_similar_to_given(mean_vec_nltk, categories)"
   ]
  },
  {
   "cell_type": "code",
   "execution_count": 25,
   "id": "static-silver",
   "metadata": {},
   "outputs": [
    {
     "data": {
      "text/plain": [
       "'carrot'"
      ]
     },
     "execution_count": 25,
     "metadata": {},
     "output_type": "execute_result"
    }
   ],
   "source": [
    "vectors.most_similar_to_given(mean_vec_tokenizer, categories)"
   ]
  },
  {
   "cell_type": "code",
   "execution_count": 26,
   "id": "surprised-consequence",
   "metadata": {},
   "outputs": [
    {
     "data": {
      "text/plain": [
       "'carrot'"
      ]
     },
     "execution_count": 26,
     "metadata": {},
     "output_type": "execute_result"
    }
   ],
   "source": [
    "vectors.most_similar_to_given(mean_vec_split, categories)"
   ]
  },
  {
   "cell_type": "markdown",
   "id": "electoral-christianity",
   "metadata": {},
   "source": [
    "<div class=\"alert alert-block alert-success\">\n",
    "Conclusion: mean of words works better than passing the whole sentence.\n",
    "</div>"
   ]
  },
  {
   "cell_type": "code",
   "execution_count": 27,
   "id": "female-liverpool",
   "metadata": {},
   "outputs": [],
   "source": [
    "categories = {\n",
    "    \"television\" : \"📺\",\n",
    "    \"mobile\" : \"📱\",\n",
    "    \"computer\" : \"💻\",\n",
    "    \"watch\": \"⌚️\",\n",
    "    \"camera\": \"📷\",\n",
    "    \"headphones\": \"🎧\",\n",
    "    \"videogame\" : \"🎮\",\n",
    "    \"paper\": \"📄\",\n",
    "    \"pencil\": \"✏️\",\n",
    "    \"shirt\": \"👕\",\n",
    "    \"jeans\": \"👖\",\n",
    "    \"shoes\": \"👟\",\n",
    "    \"vegetable\": \"🥗\",\n",
    "    \"fruit\": \"🍏\",\n",
    "    \"carrot\": \"🥕\",\n",
    "    \"yoghurt\": \"🥛\",\n",
    "    \n",
    "}"
   ]
  },
  {
   "cell_type": "code",
   "execution_count": 28,
   "id": "meaningful-insertion",
   "metadata": {},
   "outputs": [],
   "source": [
    "def get_whole_sentence_category(sentence):\n",
    "    \"\"\"\n",
    "    Query for the most similar key out of a list of keys to a given key.\n",
    "    Keys can be composed of multiple words.\n",
    "    \"\"\"\n",
    "    most_similar = vectors.most_similar_to_given(sentence, list(categories.keys()))\n",
    "    \n",
    "    emoji = categories[most_similar]\n",
    "    return {\n",
    "        \"category\": most_similar,\n",
    "        \"emoji\": emoji,\n",
    "    }"
   ]
  },
  {
   "cell_type": "code",
   "execution_count": 29,
   "id": "informational-authentication",
   "metadata": {},
   "outputs": [
    {
     "data": {
      "text/plain": [
       "{'category': 'mobile', 'emoji': '📱'}"
      ]
     },
     "execution_count": 29,
     "metadata": {},
     "output_type": "execute_result"
    }
   ],
   "source": [
    "get_whole_sentence_category(\"smartphone\")"
   ]
  },
  {
   "cell_type": "code",
   "execution_count": 30,
   "id": "killing-windows",
   "metadata": {},
   "outputs": [
    {
     "data": {
      "text/plain": [
       "{'category': 'fruit', 'emoji': '🍏'}"
      ]
     },
     "execution_count": 30,
     "metadata": {},
     "output_type": "execute_result"
    }
   ],
   "source": [
    "get_whole_sentence_category(\"carrot and fruit\")"
   ]
  },
  {
   "cell_type": "code",
   "execution_count": 31,
   "id": "pleased-harmony",
   "metadata": {},
   "outputs": [
    {
     "data": {
      "text/plain": [
       "{'category': 'yoghurt', 'emoji': '🥛'}"
      ]
     },
     "execution_count": 31,
     "metadata": {},
     "output_type": "execute_result"
    }
   ],
   "source": [
    "get_whole_sentence_category(\"ginger carrot soup\")"
   ]
  },
  {
   "cell_type": "code",
   "execution_count": 32,
   "id": "recorded-watershed",
   "metadata": {},
   "outputs": [],
   "source": [
    "def get_category_using_mean(sentence):\n",
    "    mean_vec = get_mean_vec_tokenizer(sentence)\n",
    "    most_similar = vectors.most_similar_to_given(mean_vec, list(categories.keys()))\n",
    "    \n",
    "    emoji = categories[most_similar]\n",
    "    return {\n",
    "        \"category\": most_similar,\n",
    "        \"emoji\": emoji,\n",
    "    }"
   ]
  },
  {
   "cell_type": "code",
   "execution_count": 33,
   "id": "automated-therapist",
   "metadata": {},
   "outputs": [
    {
     "name": "stdout",
     "output_type": "stream",
     "text": [
      "['smartphone']\n",
      "(1, 300)\n"
     ]
    },
    {
     "data": {
      "text/plain": [
       "{'category': 'mobile', 'emoji': '📱'}"
      ]
     },
     "execution_count": 33,
     "metadata": {},
     "output_type": "execute_result"
    }
   ],
   "source": [
    "get_category_using_mean(\"smartphone\")"
   ]
  },
  {
   "cell_type": "code",
   "execution_count": 34,
   "id": "strong-criminal",
   "metadata": {},
   "outputs": [
    {
     "name": "stdout",
     "output_type": "stream",
     "text": [
      "['carrot', 'fruit']\n",
      "(2, 300)\n"
     ]
    },
    {
     "data": {
      "text/plain": [
       "{'category': 'fruit', 'emoji': '🍏'}"
      ]
     },
     "execution_count": 34,
     "metadata": {},
     "output_type": "execute_result"
    }
   ],
   "source": [
    "get_category_using_mean(\"carrot and fruit\")"
   ]
  },
  {
   "cell_type": "code",
   "execution_count": 35,
   "id": "advanced-rotation",
   "metadata": {},
   "outputs": [
    {
     "name": "stdout",
     "output_type": "stream",
     "text": [
      "['ginger', 'carrot', 'soup']\n",
      "(3, 300)\n"
     ]
    },
    {
     "data": {
      "text/plain": [
       "{'category': 'carrot', 'emoji': '🥕'}"
      ]
     },
     "execution_count": 35,
     "metadata": {},
     "output_type": "execute_result"
    }
   ],
   "source": [
    "get_category_using_mean(\"ginger carrot soup\")"
   ]
  },
  {
   "cell_type": "markdown",
   "id": "injured-bargain",
   "metadata": {},
   "source": [
    "## When also categories have multiple words"
   ]
  },
  {
   "cell_type": "code",
   "execution_count": 36,
   "id": "impaired-import",
   "metadata": {},
   "outputs": [],
   "source": [
    "categories_multiword = {\n",
    "    \"video game\" : \"🎮\",\n",
    "    \"ice cream\": \"🍦\",\n",
    "    \"cream\": \"🥛\",\n",
    "    \"vegetable\": \"🥗\",\n",
    "    \"fruit\": \"🍏\",\n",
    "    \"carrot soup\": \"🥕\",\n",
    "    \"yoghurt\": \"🥛\",\n",
    "    \"womans boot\": \"👢\",\n",
    "    \"Woman's sandal\": \"👡\",\n",
    "}"
   ]
  },
  {
   "cell_type": "code",
   "execution_count": 58,
   "id": "italic-developer",
   "metadata": {},
   "outputs": [
    {
     "name": "stdout",
     "output_type": "stream",
     "text": [
      "['video', 'game']\n",
      "(2, 300)\n",
      "['ice', 'cream']\n",
      "(2, 300)\n",
      "['cream']\n",
      "(1, 300)\n",
      "['vegetable']\n",
      "(1, 300)\n",
      "['fruit']\n",
      "(1, 300)\n",
      "['carrot', 'soup']\n",
      "(2, 300)\n",
      "['yoghurt']\n",
      "(1, 300)\n",
      "['womans', 'boot']\n",
      "(2, 300)\n",
      "['woman', 'sandal']\n",
      "(2, 300)\n",
      "9x300\n"
     ]
    }
   ],
   "source": [
    "categories_multiword_vecs = [get_mean_vec_tokenizer(key) for key in categories_multiword.keys()]\n",
    "print(f\"{len(categories_multiword_vecs)}x{len(categories_multiword_vecs[0])}\")\n",
    "\n",
    "def get_category_using_mean_for_sentence_and_categories(sentence):\n",
    "    mean_vec = get_mean_vec_tokenizer(sentence)\n",
    "    similarities = [vectors.similarity(mean_vec, category_vec) for category_vec in categories_multiword_vecs]\n",
    "    most_similar_index = np.array(similarities).argmax()\n",
    "    most_similar = list(categories_multiword)[most_similar_index]\n",
    "    \n",
    "    emoji = categories_multiword[most_similar]\n",
    "    return {\n",
    "        \"category\": most_similar,\n",
    "        \"emoji\": emoji,\n",
    "    }"
   ]
  },
  {
   "cell_type": "code",
   "execution_count": 61,
   "id": "manual-tennis",
   "metadata": {},
   "outputs": [
    {
     "name": "stdout",
     "output_type": "stream",
     "text": [
      "['carrot']\n",
      "(1, 300)\n"
     ]
    },
    {
     "data": {
      "text/plain": [
       "{'category': 'carrot soup', 'emoji': '🥕'}"
      ]
     },
     "execution_count": 61,
     "metadata": {},
     "output_type": "execute_result"
    }
   ],
   "source": [
    "get_category_using_mean_for_sentence_and_categories(\"carrot\")"
   ]
  },
  {
   "cell_type": "code",
   "execution_count": 40,
   "id": "personal-cylinder",
   "metadata": {},
   "outputs": [
    {
     "name": "stdout",
     "output_type": "stream",
     "text": [
      "['woman', 'boot']\n",
      "(2, 300)\n"
     ]
    },
    {
     "data": {
      "text/plain": [
       "{'category': 'womans boot', 'emoji': '👢'}"
      ]
     },
     "execution_count": 40,
     "metadata": {},
     "output_type": "execute_result"
    }
   ],
   "source": [
    "get_category_using_mean_for_sentence_and_categories(\"Woman's boot\")"
   ]
  },
  {
   "cell_type": "code",
   "execution_count": 41,
   "id": "innocent-exhaust",
   "metadata": {},
   "outputs": [],
   "source": [
    "def get_whole_sentence_category_2(sentence):\n",
    "    \"\"\"\n",
    "    Similar to `get_whole_sentence_category` but uses `categories_multiword`.\n",
    "    \"\"\"\n",
    "    most_similar = vectors.most_similar_to_given(sentence, list(categories_multiword.keys()))\n",
    "    \n",
    "    emoji = categories_multiword[most_similar]\n",
    "    return {\n",
    "        \"category\": most_similar,\n",
    "        \"emoji\": emoji,\n",
    "    }"
   ]
  },
  {
   "cell_type": "code",
   "execution_count": 42,
   "id": "fluid-contact",
   "metadata": {},
   "outputs": [
    {
     "data": {
      "text/plain": [
       "{'category': 'fruit', 'emoji': '🍏'}"
      ]
     },
     "execution_count": 42,
     "metadata": {},
     "output_type": "execute_result"
    }
   ],
   "source": [
    "get_whole_sentence_category_2(\"carrot\")"
   ]
  },
  {
   "cell_type": "code",
   "execution_count": 43,
   "id": "fitted-edmonton",
   "metadata": {
    "tags": []
   },
   "outputs": [
    {
     "data": {
      "text/plain": [
       "{'category': 'womans boot', 'emoji': '👢'}"
      ]
     },
     "execution_count": 43,
     "metadata": {},
     "output_type": "execute_result"
    }
   ],
   "source": [
    "get_whole_sentence_category_2(\"Woman's boot\")"
   ]
  },
  {
   "cell_type": "code",
   "execution_count": 44,
   "id": "french-daniel",
   "metadata": {},
   "outputs": [],
   "source": [
    "def get_category_using_mean_for_sentence_but_not_for_categories(sentence):\n",
    "    most_similar = vectors.most_similar_to_given(get_mean_vec_tokenizer(sentence), \n",
    "                                                 list(categories_multiword.keys()))\n",
    "    \n",
    "    emoji = categories_multiword[most_similar]\n",
    "    return {\n",
    "        \"category\": most_similar,\n",
    "        \"emoji\": emoji,\n",
    "    }"
   ]
  },
  {
   "cell_type": "code",
   "execution_count": 45,
   "id": "satisfactory-cookbook",
   "metadata": {},
   "outputs": [
    {
     "name": "stdout",
     "output_type": "stream",
     "text": [
      "['carrot']\n",
      "(1, 300)\n"
     ]
    },
    {
     "data": {
      "text/plain": [
       "{'category': 'fruit', 'emoji': '🍏'}"
      ]
     },
     "execution_count": 45,
     "metadata": {},
     "output_type": "execute_result"
    }
   ],
   "source": [
    "get_category_using_mean_for_sentence_but_not_for_categories(\"carrot\")"
   ]
  },
  {
   "cell_type": "code",
   "execution_count": 46,
   "id": "recreational-circular",
   "metadata": {},
   "outputs": [
    {
     "name": "stdout",
     "output_type": "stream",
     "text": [
      "['woman', 'boot']\n",
      "(2, 300)\n"
     ]
    },
    {
     "data": {
      "text/plain": [
       "{'category': \"Woman's sandal\", 'emoji': '👡'}"
      ]
     },
     "execution_count": 46,
     "metadata": {},
     "output_type": "execute_result"
    }
   ],
   "source": [
    "get_category_using_mean_for_sentence_but_not_for_categories(\"Woman's boot\")"
   ]
  },
  {
   "cell_type": "markdown",
   "id": "freelance-northern",
   "metadata": {},
   "source": [
    "<div class=\"alert alert-block alert-success\">\n",
    "Conclusion: mean of words of category works better than passing the whole category.\n",
    "</div>"
   ]
  },
  {
   "cell_type": "markdown",
   "id": "paperback-thing",
   "metadata": {
    "tags": []
   },
   "source": [
    "### Cosine similarity and distance"
   ]
  },
  {
   "cell_type": "code",
   "execution_count": 47,
   "id": "current-thursday",
   "metadata": {},
   "outputs": [],
   "source": [
    "cat_vec = vectors.query(\"cat\")\n",
    "dog_vec = vectors.query(\"dog\")"
   ]
  },
  {
   "cell_type": "code",
   "execution_count": 48,
   "id": "italic-agriculture",
   "metadata": {},
   "outputs": [
    {
     "data": {
      "text/plain": [
       "0.23905426263809204"
      ]
     },
     "execution_count": 48,
     "metadata": {},
     "output_type": "execute_result"
    }
   ],
   "source": [
    "# cosine distance\n",
    "spatial.distance.cosine(cat_vec, dog_vec)"
   ]
  },
  {
   "cell_type": "code",
   "execution_count": 49,
   "id": "spanish-effectiveness",
   "metadata": {},
   "outputs": [
    {
     "data": {
      "text/plain": [
       "0.760945737361908"
      ]
     },
     "execution_count": 49,
     "metadata": {},
     "output_type": "execute_result"
    }
   ],
   "source": [
    "# cosine similarity\n",
    "similarity = 1 - spatial.distance.cosine(cat_vec, dog_vec)\n",
    "similarity"
   ]
  },
  {
   "cell_type": "code",
   "execution_count": 50,
   "id": "joined-assurance",
   "metadata": {},
   "outputs": [
    {
     "data": {
      "text/plain": [
       "0.23905426263809204"
      ]
     },
     "execution_count": 50,
     "metadata": {},
     "output_type": "execute_result"
    }
   ],
   "source": [
    "# cosine distance\n",
    "distance = 1 - similarity\n",
    "distance"
   ]
  },
  {
   "cell_type": "code",
   "execution_count": 51,
   "id": "related-outreach",
   "metadata": {},
   "outputs": [
    {
     "data": {
      "text/plain": [
       "0.76094574"
      ]
     },
     "execution_count": 51,
     "metadata": {},
     "output_type": "execute_result"
    }
   ],
   "source": [
    "# cosine similarity\n",
    "vectors.similarity(\"cat\", \"dog\")"
   ]
  },
  {
   "cell_type": "code",
   "execution_count": 52,
   "id": "competent-bumper",
   "metadata": {},
   "outputs": [
    {
     "data": {
      "text/plain": [
       "0.76094574"
      ]
     },
     "execution_count": 52,
     "metadata": {},
     "output_type": "execute_result"
    }
   ],
   "source": [
    "# cosine similarity\n",
    "vectors.similarity(cat_vec, dog_vec)"
   ]
  },
  {
   "cell_type": "code",
   "execution_count": 53,
   "id": "grateful-thanks",
   "metadata": {},
   "outputs": [
    {
     "data": {
      "text/plain": [
       "0.69145405"
      ]
     },
     "execution_count": 53,
     "metadata": {},
     "output_type": "execute_result"
    }
   ],
   "source": [
    "# pymagnitude distance\n",
    "vectors.distance(\"cat\", \"dog\")"
   ]
  },
  {
   "cell_type": "code",
   "execution_count": 54,
   "id": "divine-honduras",
   "metadata": {},
   "outputs": [
    {
     "data": {
      "text/plain": [
       "array([[0.7609456]], dtype=float32)"
      ]
     },
     "execution_count": 54,
     "metadata": {},
     "output_type": "execute_result"
    }
   ],
   "source": [
    "from sklearn.metrics.pairwise import cosine_similarity\n",
    "\n",
    "# cosine similarity\n",
    "cosine_similarity([cat_vec], [dog_vec])"
   ]
  },
  {
   "cell_type": "code",
   "execution_count": 55,
   "id": "humanitarian-confidentiality",
   "metadata": {},
   "outputs": [
    {
     "data": {
      "text/plain": [
       "array([[0.23905438]], dtype=float32)"
      ]
     },
     "execution_count": 55,
     "metadata": {},
     "output_type": "execute_result"
    }
   ],
   "source": [
    "from sklearn.metrics.pairwise import cosine_distances\n",
    "\n",
    "# cosine distance\n",
    "cosine_distances([cat_vec], [dog_vec])"
   ]
  },
  {
   "cell_type": "code",
   "execution_count": 56,
   "id": "insured-andrews",
   "metadata": {},
   "outputs": [
    {
     "data": {
      "text/plain": [
       "0.76094574"
      ]
     },
     "execution_count": 56,
     "metadata": {},
     "output_type": "execute_result"
    }
   ],
   "source": [
    "# compute cosine similarity manually\n",
    "np.inner(cat_vec, dog_vec) / np.linalg.norm(cat_vec) * np.linalg.norm(dog_vec)"
   ]
  }
 ],
 "metadata": {
  "kernelspec": {
   "display_name": "Python [conda env:ib031] *",
   "language": "python",
   "name": "conda-env-ib031-py"
  },
  "language_info": {
   "codemirror_mode": {
    "name": "ipython",
    "version": 3
   },
   "file_extension": ".py",
   "mimetype": "text/x-python",
   "name": "python",
   "nbconvert_exporter": "python",
   "pygments_lexer": "ipython3",
   "version": "3.8.8"
  }
 },
 "nbformat": 4,
 "nbformat_minor": 5
}
