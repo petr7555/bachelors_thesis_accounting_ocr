{
 "cells": [
  {
   "cell_type": "code",
   "execution_count": 1,
   "id": "running-freeze",
   "metadata": {},
   "outputs": [],
   "source": [
    "import pandas as pd\n",
    "\n",
    "df = pd.read_csv(\"questionnaire_answers.csv\")"
   ]
  },
  {
   "cell_type": "code",
   "execution_count": 2,
   "id": "explicit-locking",
   "metadata": {},
   "outputs": [],
   "source": [
    "if \"Časová značka\" in df:\n",
    "    df = df.drop(columns=[\"Časová značka\"])"
   ]
  },
  {
   "cell_type": "markdown",
   "id": "amino-boxing",
   "metadata": {},
   "source": [
    "# Emojis"
   ]
  },
  {
   "cell_type": "code",
   "execution_count": 3,
   "id": "genuine-georgia",
   "metadata": {},
   "outputs": [],
   "source": [
    "import re\n",
    "\n",
    "emojis = df.filter(regex=(\"Please choose .*\"))\n",
    "emojis = emojis.rename(columns={element: re.sub(r'.*\\[(.+)\\]',r'\\1', element) for element in emojis.columns.tolist()})\n",
    "emojis[emojis.columns] = emojis[emojis.columns].astype(\"string\")\n",
    "# emojis.info()"
   ]
  },
  {
   "cell_type": "code",
   "execution_count": 4,
   "id": "atomic-precipitation",
   "metadata": {},
   "outputs": [],
   "source": [
    "accurate = (df.values == \"Accurate\").sum()\n",
    "mildly_accurate = (df.values == \"Mildly accurate\").sum()\n",
    "not_accurate = (df.values == \"Not accurate\").sum()"
   ]
  },
  {
   "cell_type": "code",
   "execution_count": 5,
   "id": "potential-morning",
   "metadata": {},
   "outputs": [],
   "source": [
    "total_answers_emojis = accurate + mildly_accurate + not_accurate\n",
    "rows_emojis = len(emojis)\n",
    "\n",
    "assert(total_answers_emojis % rows_emojis == 0)"
   ]
  },
  {
   "cell_type": "code",
   "execution_count": 6,
   "id": "moving-protection",
   "metadata": {},
   "outputs": [
    {
     "name": "stdout",
     "output_type": "stream",
     "text": [
      "Accurate: 20.82 %\n",
      "Mildly accurate: 25.36 %\n",
      "Not accurate: 53.83 %\n"
     ]
    }
   ],
   "source": [
    "print(f\"Accurate: {accurate / total_answers_emojis * 100:.02f} %\")\n",
    "print(f\"Mildly accurate: {mildly_accurate / total_answers_emojis * 100:.02f} %\")\n",
    "print(f\"Not accurate: {not_accurate / total_answers_emojis * 100:.02f} %\")"
   ]
  },
  {
   "cell_type": "markdown",
   "id": "retained-tsunami",
   "metadata": {},
   "source": [
    "## Graph"
   ]
  },
  {
   "cell_type": "code",
   "execution_count": 7,
   "id": "visible-premiere",
   "metadata": {},
   "outputs": [
    {
     "data": {
      "image/png": "[encoded data removed]",
      "text/plain": [
       "<Figure size 432x216 with 1 Axes>"
      ]
     },
     "metadata": {},
     "output_type": "display_data"
    }
   ],
   "source": [
    "import matplotlib.pyplot as plt\n",
    "import numpy as np\n",
    "\n",
    "fig, ax = plt.subplots(figsize=(6, 3), subplot_kw=dict(aspect=\"equal\"))\n",
    "\n",
    "sizes = [not_accurate, accurate, mildly_accurate]\n",
    "total = sum(sizes)\n",
    "\n",
    "labels = [\n",
    "    f'{sizes[0]/total*100:.1f}% Not accurate', \n",
    "    f'{sizes[1]/total*100:.1f}% Accurate',\n",
    "    f'{sizes[2]/total*100:.1f}% Mildly accurate',\n",
    "]\n",
    "\n",
    "colors = ['#833107', '#078331', '#310783']\n",
    "\n",
    "\n",
    "wedges, texts = ax.pie(sizes, wedgeprops=dict(width=0.5), startangle=-40, colors=colors)\n",
    "\n",
    "bbox_props = dict(boxstyle=\"square,pad=0.3\", fc=\"w\", ec=\"k\", lw=0.72)\n",
    "kw = dict(arrowprops=dict(arrowstyle=\"-\"),\n",
    "          bbox=bbox_props, zorder=0, va=\"center\")\n",
    "\n",
    "for i, p in enumerate(wedges):\n",
    "    ang = (p.theta2 - p.theta1)/2. + p.theta1\n",
    "    y = np.sin(np.deg2rad(ang))\n",
    "    x = np.cos(np.deg2rad(ang))\n",
    "    horizontalalignment = {-1: \"right\", 1: \"left\"}[int(np.sign(x))]\n",
    "    connectionstyle = \"angle,angleA=0,angleB={}\".format(ang)\n",
    "    kw[\"arrowprops\"].update({\"connectionstyle\": connectionstyle})\n",
    "    ax.annotate(labels[i], size=11, xy=(x, y), xytext=(1.35*np.sign(x), 1.4*y),\n",
    "                horizontalalignment=horizontalalignment, **kw)\n",
    "\n",
    "#ax.set_title(\"Quality of emojis assigned to receipt items\", pad=15)\n",
    "\n",
    "plt.savefig(\"quality_of_emojis.pdf\", bbox_inches = 'tight')"
   ]
  },
  {
   "cell_type": "markdown",
   "id": "realistic-senate",
   "metadata": {},
   "source": [
    "# Images"
   ]
  },
  {
   "cell_type": "code",
   "execution_count": 8,
   "id": "changed-conference",
   "metadata": {},
   "outputs": [],
   "source": [
    "images = df.filter(regex=(\"Which image .*\")).copy()\n",
    "images[images.columns] = images[images.columns].astype(\"string\")\n",
    "# images.info()"
   ]
  },
  {
   "cell_type": "code",
   "execution_count": 9,
   "id": "biological-fiction",
   "metadata": {},
   "outputs": [],
   "source": [
    "left = (df.values == \"Left\").sum()\n",
    "right = (df.values == \"Right\").sum()\n",
    "\n",
    "not_accurate = (df.values == \"Not accurate\").sum()"
   ]
  },
  {
   "cell_type": "code",
   "execution_count": 10,
   "id": "figured-renewal",
   "metadata": {},
   "outputs": [],
   "source": [
    "total_answers_images = left + right\n",
    "rows_images = len(images)\n",
    "\n",
    "assert(total_answers_images % rows_images == 0)"
   ]
  },
  {
   "cell_type": "markdown",
   "id": "interim-waste",
   "metadata": {},
   "source": [
    "## Graph"
   ]
  },
  {
   "cell_type": "code",
   "execution_count": 11,
   "id": "regulated-parent",
   "metadata": {},
   "outputs": [
    {
     "data": {
      "image/png": "[encoded data removed]",
      "text/plain": [
       "<Figure size 432x216 with 1 Axes>"
      ]
     },
     "metadata": {},
     "output_type": "display_data"
    }
   ],
   "source": [
    "fig, ax = plt.subplots(figsize=(6, 3), subplot_kw=dict(aspect=\"equal\"))\n",
    "\n",
    "sizes = [left, right]\n",
    "total = sum(sizes)\n",
    "\n",
    "labels = [\n",
    "    f'{sizes[0]/total*100:.1f}% Original', \n",
    "    f'{sizes[1]/total*100:.1f}% Processed',\n",
    "]\n",
    "\n",
    "colors = ['#078331', '#310783']\n",
    "\n",
    "\n",
    "wedges, texts = ax.pie(sizes, wedgeprops=dict(width=0.5), startangle=-40, colors=colors)\n",
    "\n",
    "bbox_props = dict(boxstyle=\"square,pad=0.3\", fc=\"w\", ec=\"k\", lw=0.72)\n",
    "kw = dict(arrowprops=dict(arrowstyle=\"-\"),\n",
    "          bbox=bbox_props, zorder=0, va=\"center\")\n",
    "\n",
    "for i, p in enumerate(wedges):\n",
    "    ang = (p.theta2 - p.theta1)/2. + p.theta1\n",
    "    y = np.sin(np.deg2rad(ang))\n",
    "    x = np.cos(np.deg2rad(ang))\n",
    "    horizontalalignment = {-1: \"right\", 1: \"left\"}[int(np.sign(x))]\n",
    "    connectionstyle = \"angle,angleA=0,angleB={}\".format(ang)\n",
    "    kw[\"arrowprops\"].update({\"connectionstyle\": connectionstyle})\n",
    "    ax.annotate(labels[i], size=11, xy=(x, y), xytext=(1.35*np.sign(x), 1.4*y),\n",
    "                horizontalalignment=horizontalalignment, **kw)\n",
    "\n",
    "#ax.set_title(\"Which image is more readable?\")\n",
    "\n",
    "plt.savefig(\"which_image_is_more_readable.pdf\", bbox_inches = 'tight')"
   ]
  },
  {
   "cell_type": "code",
   "execution_count": null,
   "id": "employed-jumping",
   "metadata": {},
   "outputs": [],
   "source": []
  }
 ],
 "metadata": {
  "kernelspec": {
   "display_name": "Python [conda env:ib031] *",
   "language": "python",
   "name": "conda-env-ib031-py"
  },
  "language_info": {
   "codemirror_mode": {
    "name": "ipython",
    "version": 3
   },
   "file_extension": ".py",
   "mimetype": "text/x-python",
   "name": "python",
   "nbconvert_exporter": "python",
   "pygments_lexer": "ipython3",
   "version": "3.8.8"
  }
 },
 "nbformat": 4,
 "nbformat_minor": 5
}
