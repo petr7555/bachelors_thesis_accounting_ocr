{
 "cells": [
  {
   "cell_type": "code",
   "execution_count": 9,
   "id": "editorial-learning",
   "metadata": {},
   "outputs": [
    {
     "name": "stdout",
     "output_type": "stream",
     "text": [
      "./combined/00.jpg saved\n",
      "./combined/01.jpg saved\n",
      "./combined/02.jpg saved\n",
      "./combined/03.jpg saved\n",
      "./combined/04.jpg saved\n",
      "./combined/05.jpg saved\n",
      "./combined/06.jpg saved\n",
      "./combined/07.jpg saved\n",
      "./combined/08.jpg saved\n",
      "./combined/09.jpg saved\n",
      "./combined/10.jpg saved\n",
      "./combined/11.jpg saved\n",
      "./combined/12.jpg saved\n",
      "./combined/13.jpg saved\n",
      "./combined/14.jpg saved\n",
      "./combined/15.jpg saved\n",
      "./combined/16.jpg saved\n",
      "./combined/17.jpg saved\n",
      "./combined/18.jpg saved\n",
      "./combined/19.jpg saved\n",
      "./combined/20.jpg saved\n",
      "./combined/21.jpg saved\n",
      "./combined/22.jpg saved\n",
      "./combined/23.jpg saved\n",
      "./combined/24.jpg saved\n",
      "./combined/25.jpg saved\n",
      "./combined/26.jpg saved\n",
      "./combined/27.jpg saved\n",
      "./combined/28.jpg saved\n",
      "./combined/29.jpg saved\n"
     ]
    }
   ],
   "source": [
    "import numpy as np\n",
    "import PIL\n",
    "from PIL import Image\n",
    "\n",
    "num_images = 30\n",
    "\n",
    "original = [f\"./receipts_export/original/{i}.jpg\" for i in range(num_images)]\n",
    "processed = [f\"./receipts_export/processed/{i}.jpg\" for i in range(num_images)]\n",
    "\n",
    "def open_image(img_path):\n",
    "    \"\"\"Open image and convert to RGB if it is not in RGB already.\"\"\"\n",
    "    \n",
    "    img = PIL.Image.open(img_path)\n",
    "    if (img.mode != \"RGB\"):\n",
    "        rgb_img = Image.new(\"RGB\", img.size)\n",
    "        rgb_img.paste(img)\n",
    "        return rgb_img\n",
    "    return img\n",
    "    \n",
    "    \n",
    "for j in range(num_images):\n",
    "    images = [open_image(image) for image in [original[j], processed[j]]]\n",
    "\n",
    "    # find the minimal height among images\n",
    "    min_height = sorted([image.size[1] for image in images])[0]\n",
    "\n",
    "    # resize images to the same height, stack horizontally\n",
    "    imgs_comb = np.hstack([np.asarray(img.resize((int(img.size[0] * (min_height / img.size[1])), min_height))) for img in images])\n",
    "    \n",
    "    # save the image\n",
    "    imgs_comb = PIL.Image.fromarray(imgs_comb)\n",
    "    output_name = f\"./combined/{j:02d}.jpg\"\n",
    "    imgs_comb.save(output_name)\n",
    "    print(output_name, \"saved\")\n"
   ]
  },
  {
   "cell_type": "code",
   "execution_count": null,
   "id": "innocent-master",
   "metadata": {},
   "outputs": [],
   "source": []
  }
 ],
 "metadata": {
  "kernelspec": {
   "display_name": "Python [conda env:ib031] *",
   "language": "python",
   "name": "conda-env-ib031-py"
  },
  "language_info": {
   "codemirror_mode": {
    "name": "ipython",
    "version": 3
   },
   "file_extension": ".py",
   "mimetype": "text/x-python",
   "name": "python",
   "nbconvert_exporter": "python",
   "pygments_lexer": "ipython3",
   "version": "3.8.8"
  }
 },
 "nbformat": 4,
 "nbformat_minor": 5
}
